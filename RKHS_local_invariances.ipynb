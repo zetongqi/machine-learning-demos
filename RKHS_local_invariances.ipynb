{
 "cells": [
  {
   "cell_type": "code",
   "execution_count": 1,
   "metadata": {},
   "outputs": [],
   "source": [
    "from sklearn.datasets import make_circles, make_moons, make_swiss_roll, make_s_curve\n",
    "from mpl_toolkits.mplot3d import Axes3D\n",
    "import numpy as np\n",
    "import matplotlib.pyplot as plt\n",
    "import matplotlib\n",
    "from sklearn.model_selection import train_test_split\n",
    "from cvxopt import matrix\n",
    "from cvxopt import solvers\n",
    "from numpy import linalg as LA"
   ]
  },
  {
   "cell_type": "markdown",
   "metadata": {},
   "source": [
    "## Two moon dataset with only 2 labelled examples"
   ]
  },
  {
   "cell_type": "code",
   "execution_count": 2,
   "metadata": {},
   "outputs": [
    {
     "data": {
      "text/plain": [
       "<matplotlib.legend.Legend at 0x11cd28940>"
      ]
     },
     "execution_count": 2,
     "metadata": {},
     "output_type": "execute_result"
    },
    {
     "data": {
      "image/png": "[encoded data removed]",
      "text/plain": [
       "<Figure size 432x288 with 1 Axes>"
      ]
     },
     "metadata": {
      "needs_background": "light"
     },
     "output_type": "display_data"
    }
   ],
   "source": [
    "X, y = make_moons(n_samples=500, noise=0.1)\n",
    "y[y == 0] = -1\n",
    "seed = 1\n",
    "X, X_test, y, y_test = train_test_split(X, y, test_size=0.2, random_state=seed)\n",
    "max_idx = list(X[:, 0]).index(max(X[:, 0]))\n",
    "min_idx = list(X[:, 0]).index(min(X[:, 0]))\n",
    "idx = [max_idx, min_idx]\n",
    "\n",
    "X_lab = X[idx]\n",
    "y_lab = y[idx]\n",
    "\n",
    "mask = np.ones(X[:, 0].shape, bool)\n",
    "mask[idx] = False\n",
    "X_unlab = X[mask]\n",
    "y_unlab = y[mask]\n",
    "\n",
    "X = np.concatenate((X_lab, np.repeat(X_unlab, 2, axis=0)))\n",
    "y = np.concatenate((y_lab, np.repeat(y_unlab, 2, axis=0)))\n",
    "\n",
    "colors = ['red','blue']\n",
    "plt.scatter(X_unlab[:, 0], X_unlab[:, 1], c=y_unlab, cmap=matplotlib.colors.ListedColormap(colors), s=2)\n",
    "plt.scatter(X_lab[:, 0], X_lab[:, 1], c=y_lab, cmap=matplotlib.colors.ListedColormap(colors), marker='*', s=100)\n",
    "plt.legend(['Unlabelled Examples', 'Labelled Examples'])"
   ]
  },
  {
   "cell_type": "markdown",
   "metadata": {},
   "source": [
    "## Kernel functions and bounded linear functionals on RKHS"
   ]
  },
  {
   "cell_type": "code",
   "execution_count": 3,
   "metadata": {},
   "outputs": [],
   "source": [
    "n_default = 2\n",
    "def z_xij(xi, x, j, n=n_default):\n",
    "    return n * (np.dot(xi, x) + 1)**(n-1) * x[j]\n",
    "\n",
    "def z_xij_xpq(xi, xp, i, j, p, q, n=n_default):\n",
    "    val = (n-1) * n * ((np.dot(xi, xp) + 1)**(n-2)) * xp[j] * xi[q]\n",
    "    if j == p:\n",
    "        val += n * (np.dot(xp, xi) + 1)**(n-1)\n",
    "    return val\n",
    "\n",
    "def poly(x1, x2, n=n_default):\n",
    "    return (np.dot(x1, x2) + 1)**n"
   ]
  },
  {
   "cell_type": "code",
   "execution_count": 4,
   "metadata": {},
   "outputs": [],
   "source": [
    "def z_xij_gaussian(xi, x, j, sigma=0.1):\n",
    "    return 1/(sigma**2) * (x[j] - xi[j]) * np.exp(-1/(2*sigma**2) * LA.norm(xi-x)**2)\n",
    "\n",
    "def z_xij_xpq_gaussian(xi, xp, j, q, sigma=0.1):\n",
    "    if j != q:\n",
    "        return -1/sigma**4 * (xi[j] - xp[j]) * (xi[q] - xp[q]) * np.exp(-1/(2*sigma**2) * LA.norm(xi-xp)**2)\n",
    "    else:\n",
    "        return 1/sigma**4 * (sigma**2 - (xi[j] - xp[j])**2) * np.exp(-1/(2*sigma**2) * LA.norm(xi-xp)**2)\n",
    "\n",
    "def gaussian(x1, x2, sigma=0.1):\n",
    "    return np.exp(-1/(2*sigma**2) * LA.norm(x1 - x2)**2)"
   ]
  },
  {
   "cell_type": "code",
   "execution_count": 5,
   "metadata": {},
   "outputs": [
    {
     "data": {
      "text/plain": [
       "(798, 2)"
      ]
     },
     "execution_count": 5,
     "metadata": {},
     "output_type": "execute_result"
    }
   ],
   "source": [
    "X.shape"
   ]
  },
  {
   "cell_type": "markdown",
   "metadata": {},
   "source": [
    "## Construct K matrix"
   ]
  },
  {
   "cell_type": "code",
   "execution_count": 6,
   "metadata": {},
   "outputs": [],
   "source": [
    "l = 2\n",
    "dim = X.shape[0]\n",
    "K = np.zeros((dim, dim))\n",
    "for i in range(dim):\n",
    "    for j in range(dim):\n",
    "        if i < l and j < l:\n",
    "            K[i, j] = gaussian(X[i], X[j])\n",
    "        elif i >= l and j < l:\n",
    "            idx = i % l\n",
    "            K[i, j] = z_xij_gaussian(X[j], X[i], idx)\n",
    "        elif i < l and j >= l:\n",
    "            idx = j % l\n",
    "            K[i, j] = z_xij_gaussian(X[i], X[j], idx)\n",
    "        else:\n",
    "            idx1 = i % l\n",
    "            idx2 = j % l\n",
    "            K[i, j] = z_xij_xpq_gaussian(X[i], X[j], idx1, idx2)"
   ]
  },
  {
   "cell_type": "markdown",
   "metadata": {},
   "source": [
    "## Solve the Quadratic Program"
   ]
  },
  {
   "cell_type": "code",
   "execution_count": 7,
   "metadata": {},
   "outputs": [
    {
     "name": "stdout",
     "output_type": "stream",
     "text": [
      "     pcost       dcost       gap    pres   dres\n",
      " 0:  3.9800e+06 -8.2139e+07  9e+07  3e-05  5e-08\n",
      " 1:  3.6314e+06 -8.3903e+05  4e+06  2e-06  6e-08\n",
      " 2:  3.6354e+04 -5.6724e+05  6e+05  1e-07  5e-08\n",
      " 3:  5.2247e+02 -5.6748e+03  6e+03  1e-09  7e-10\n",
      " 4:  1.1854e+01 -1.3634e+02  1e+02  3e-11  2e-11\n",
      " 5:  8.8457e-01 -8.3412e+00  9e+00  1e-12  9e-13\n",
      " 6: -5.8800e-01 -2.0608e+00  1e+00  2e-13  1e-13\n",
      " 7: -8.4400e-01 -1.1215e+00  3e-01  3e-14  2e-14\n",
      " 8: -9.0531e-01 -9.4084e-01  4e-02  3e-15  3e-15\n",
      " 9: -9.1330e-01 -9.1932e-01  6e-03  2e-16  2e-15\n",
      "10: -9.1541e-01 -9.1664e-01  1e-03  2e-16  2e-15\n",
      "11: -9.1587e-01 -9.1608e-01  2e-04  2e-16  2e-15\n",
      "12: -9.1596e-01 -9.1598e-01  2e-05  2e-16  2e-15\n",
      "13: -9.1597e-01 -9.1597e-01  8e-07  2e-16  2e-15\n",
      "Optimal solution found.\n"
     ]
    }
   ],
   "source": [
    "Dim = l + (dim-l)*2\n",
    "length = dim - l\n",
    "Q = np.zeros((Dim, Dim))\n",
    "Q[l:l+length, l:l+length] = K[l:, l:]\n",
    "Q[l:l+length, l+length:] = -K[l:, l:]\n",
    "Q[l+length:, l:l+length] = -K[l:, l:]\n",
    "Q[l+length:, l+length:] = K[l:, l:]\n",
    "\n",
    "M = np.zeros((Dim, Dim))\n",
    "M[:l, :l] = np.outer(y_lab, y_lab) * K[:l, :l]\n",
    "G = M + Q\n",
    "\n",
    "G[l:l+length, :l] = -K[l:, :l]\n",
    "G[l+length:, :l] = K[l:, :l]\n",
    "G[:l, l:l+length] = K[:l, l:]\n",
    "G[:l, l+length:] = -K[:l, l:]\n",
    "\n",
    "Y = np.ones((Dim, Dim))\n",
    "Y[l:, :l] = np.tile(y_lab, [Dim-l, 1])\n",
    "Y[:l, l:] = np.tile(y_lab, [Dim-l, 1]).T\n",
    "P = G * Y\n",
    "\n",
    "epsilon = 0.1\n",
    "rho1 = 1\n",
    "rho2 = 100000\n",
    "q = np.zeros((Dim, 1))\n",
    "q[:l] = -1\n",
    "q[l:] = epsilon\n",
    "\n",
    "N = np.vstack((np.eye(Dim)*(-1.),np.eye(Dim)))\n",
    "constraint = np.zeros((Dim))\n",
    "constraint[:l] = 1 / (2*rho1)\n",
    "constraint[l:] = rho2 / (2*rho1)\n",
    "h = np.hstack((np.zeros(Dim), constraint))\n",
    "\n",
    "P = matrix(P)\n",
    "q = matrix(q)\n",
    "G = matrix(N)\n",
    "h = matrix(h)\n",
    "# run solver\n",
    "sol = solvers.qp(P, q, G, h)\n",
    "vals = np.array(sol['x'])"
   ]
  },
  {
   "cell_type": "code",
   "execution_count": 8,
   "metadata": {},
   "outputs": [],
   "source": [
    "beta = vals[0:l]\n",
    "alpha_prime = vals[l:l+length]\n",
    "alpha = vals[l+length:]\n",
    "a = alpha_prime - alpha"
   ]
  },
  {
   "cell_type": "code",
   "execution_count": 9,
   "metadata": {},
   "outputs": [],
   "source": [
    "sup_vec_idx = np.union1d(np.argwhere(np.logical_or(alpha_prime > 1e-2, alpha_prime < -1e-2)), np.argwhere(np.logical_or(alpha > 1e-2, alpha < -1e-2)))"
   ]
  },
  {
   "cell_type": "code",
   "execution_count": 10,
   "metadata": {},
   "outputs": [],
   "source": [
    "def classify(x, beta, a, sup_vec_idx):\n",
    "    val = 0\n",
    "    for xi, b in zip(X_lab, beta):\n",
    "        val += b * gaussian(xi, x)\n",
    "    X_tmp = np.repeat(X_unlab, 2, axis=0)\n",
    "    for idx in sup_vec_idx:\n",
    "        j = idx % l\n",
    "        val += a[idx] * z_xij_gaussian(X_tmp[idx], x, j)\n",
    "    return np.sign(val)"
   ]
  },
  {
   "cell_type": "markdown",
   "metadata": {},
   "source": [
    "## Test set accuracy"
   ]
  },
  {
   "cell_type": "code",
   "execution_count": 11,
   "metadata": {},
   "outputs": [
    {
     "data": {
      "text/plain": [
       "0.74"
      ]
     },
     "execution_count": 11,
     "metadata": {},
     "output_type": "execute_result"
    }
   ],
   "source": [
    "res = []\n",
    "for x in X_test:\n",
    "    res.append(classify(x, beta, a, sup_vec_idx))\n",
    "res = np.array(res)\n",
    "\n",
    "np.sum((res.squeeze() == y_test).astype(\"int\")) / y_test.shape[0]"
   ]
  },
  {
   "cell_type": "markdown",
   "metadata": {},
   "source": [
    "code and experiment based this on [NIPS paper](https://papers.nips.cc/paper/4895-learning-with-invariance-via-linear-functionals-on-reproducing-kernel-hilbert-space)"
   ]
  },
  {
   "cell_type": "code",
   "execution_count": null,
   "metadata": {},
   "outputs": [],
   "source": []
  }
 ],
 "metadata": {
  "kernelspec": {
   "display_name": "Python 3",
   "language": "python",
   "name": "python3"
  },
  "language_info": {
   "codemirror_mode": {
    "name": "ipython",
    "version": 3
   },
   "file_extension": ".py",
   "mimetype": "text/x-python",
   "name": "python",
   "nbconvert_exporter": "python",
   "pygments_lexer": "ipython3",
   "version": "3.6.8"
  }
 },
 "nbformat": 4,
 "nbformat_minor": 4
}
