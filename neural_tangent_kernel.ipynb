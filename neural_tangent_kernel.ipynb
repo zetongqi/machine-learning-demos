{
 "cells": [
  {
   "cell_type": "code",
   "execution_count": 1,
   "metadata": {},
   "outputs": [],
   "source": [
    "from sklearn.datasets import make_regression, load_boston\n",
    "from mpl_toolkits.mplot3d import Axes3D\n",
    "import numpy as np\n",
    "import matplotlib.pyplot as plt\n",
    "import matplotlib\n",
    "from sklearn.model_selection import train_test_split\n",
    "from cvxopt import matrix\n",
    "from cvxopt import solvers\n",
    "from numpy import linalg as LA\n",
    "from sklearn.preprocessing import StandardScaler"
   ]
  },
  {
   "cell_type": "code",
   "execution_count": 2,
   "metadata": {},
   "outputs": [],
   "source": [
    "X = 2 - 3 * np.random.normal(0, 1, 1000)\n",
    "y = X - 2 * (X ** 2) + 0.5 * (X ** 3) + np.random.normal(-3, 3, 1000)"
   ]
  },
  {
   "cell_type": "code",
   "execution_count": 3,
   "metadata": {},
   "outputs": [
    {
     "data": {
      "image/png": "[encoded data removed]",
      "text/plain": [
       "<Figure size 432x288 with 1 Axes>"
      ]
     },
     "metadata": {
      "needs_background": "light"
     },
     "output_type": "display_data"
    }
   ],
   "source": [
    "'''X, y = load_boston(return_X_y=True)\n",
    "X = X[:, -1]'''\n",
    "X = np.expand_dims(X, axis=1)\n",
    "seed = 1\n",
    "X_train, X_test, y_train, y_test = train_test_split(X, y, test_size=0.2, random_state=seed)\n",
    "plt.scatter(X_train, y_train, s=4)\n",
    "plt.show()"
   ]
  },
  {
   "cell_type": "markdown",
   "metadata": {},
   "source": [
    "## Neural tangent kernel + random fourier features"
   ]
  },
  {
   "cell_type": "code",
   "execution_count": 4,
   "metadata": {},
   "outputs": [],
   "source": [
    "def gaussian_fourier(w):\n",
    "    return (2*np.pi)**(-w.shape[0]/2) * np.exp(-LA.norm(w)/2)\n",
    "\n",
    "def laplacian_fourier(w):\n",
    "    p = 1\n",
    "    for i in range(w.shape[0]):\n",
    "        p *= 1 / (np.pi * (1 + w[i]))\n",
    "    return p\n",
    "\n",
    "def metropolis_hastings(p, dim, iter=1000):\n",
    "    x = np.zeros(dim)\n",
    "    samples = np.zeros((iter, dim))\n",
    "\n",
    "    for i in range(iter):\n",
    "        x_next = x + np.random.multivariate_normal(np.zeros(dim), np.eye(dim))\n",
    "        if np.random.rand() < p(x_next) / p(x):\n",
    "            x = x_next\n",
    "        samples[i] = x\n",
    "\n",
    "    return samples\n",
    "\n",
    "def _feature_mapping(X, omega, bias, D):\n",
    "    X_map = np.zeros((X.shape[0], D))\n",
    "    for i in range(X.shape[0]):\n",
    "        for j in range(D):\n",
    "            X_map[i, j] = np.cos(np.dot(omega[j], X[i]) + bias[j]) * np.sqrt(2/D)\n",
    "    return X_map\n",
    "\n",
    "def _draw_features(d, D, func, max_iter=1000):\n",
    "    s = metropolis_hastings(func, dim=d, iter=max_iter)\n",
    "    omega = s[np.random.randint(low=10, high=max_iter, size=D)]\n",
    "    bias = np.random.uniform(low=0, high=2*np.pi, size=D)\n",
    "    return omega, bias"
   ]
  },
  {
   "cell_type": "code",
   "execution_count": 5,
   "metadata": {},
   "outputs": [],
   "source": [
    "d = 1\n",
    "D = 10\n",
    "omega, bias = _draw_features(d, D, gaussian_fourier)\n",
    "X_train_map = _feature_mapping(X_train, omega, bias, D)\n",
    "X_test_map = _feature_mapping(X_test, omega, bias, D)"
   ]
  },
  {
   "cell_type": "code",
   "execution_count": 6,
   "metadata": {},
   "outputs": [],
   "source": [
    "def NTK(x1, x2):\n",
    "    temp = np.dot(x1.T, x2) / (LA.norm(x1) * LA.norm(x2))\n",
    "    if temp > 1.:\n",
    "        temp = 1.\n",
    "    if temp < -1.:\n",
    "        temp = -1.\n",
    "    return np.dot(x1.T, x2) * (np.pi - np.arccos(temp)) / (2 * np.pi)"
   ]
  },
  {
   "cell_type": "code",
   "execution_count": 7,
   "metadata": {},
   "outputs": [
    {
     "data": {
      "text/plain": [
       "array([[ 0.62688817,  0.16617303,  0.10732899, ..., -0.0337489 ,\n",
       "         0.04385173, -0.07812245],\n",
       "       [ 0.16617303,  0.63464375,  0.50683804, ...,  0.03237614,\n",
       "        -0.01240358, -0.07898402],\n",
       "       [ 0.10732899,  0.50683804,  0.55722163, ...,  0.09059654,\n",
       "        -0.04290597, -0.06819506],\n",
       "       ...,\n",
       "       [-0.0337489 ,  0.03237614,  0.09059654, ...,  0.47724393,\n",
       "        -0.08992954,  0.05240993],\n",
       "       [ 0.04385173, -0.01240358, -0.04290597, ..., -0.08992954,\n",
       "         0.5802106 ,  0.17648073],\n",
       "       [-0.07812245, -0.07898402, -0.06819506, ...,  0.05240993,\n",
       "         0.17648073,  0.56246382]])"
      ]
     },
     "execution_count": 7,
     "metadata": {},
     "output_type": "execute_result"
    }
   ],
   "source": [
    "m,n = X_train_map.shape\n",
    "K = np.zeros((m, m))\n",
    "for i, x_i in enumerate(X_train_map):\n",
    "    for j, x_j in enumerate(X_train_map):\n",
    "        K[i, j] = NTK(x_i, x_j)\n",
    "K"
   ]
  },
  {
   "cell_type": "code",
   "execution_count": 8,
   "metadata": {},
   "outputs": [],
   "source": [
    "pred_mtx = np.zeros(m)\n",
    "pred = []\n",
    "for x in X_test_map:\n",
    "    for x_i, i in zip(X_train_map, range(m)):\n",
    "        pred_mtx[i] = NTK(x, x_i)\n",
    "    pred.append(np.dot(pred_mtx, np.dot(LA.inv(K), y_train)))\n",
    "pred = np.array(pred)"
   ]
  },
  {
   "cell_type": "code",
   "execution_count": 14,
   "metadata": {},
   "outputs": [
    {
     "data": {
      "image/png": "[encoded data removed]",
      "text/plain": [
       "<Figure size 1152x230.4 with 2 Axes>"
      ]
     },
     "metadata": {
      "needs_background": "light"
     },
     "output_type": "display_data"
    }
   ],
   "source": [
    "fig = plt.figure(figsize=plt.figaspect(0.2))\n",
    "ax = fig.add_subplot(121)\n",
    "ax.scatter(X_test[:, 0], pred, s=4)\n",
    "ax.set_ylim([-250, 450])\n",
    "plt.title(\"prediction\")\n",
    "ax = fig.add_subplot(122)\n",
    "ax.scatter(X_test[:, 0], y_test, s=4)\n",
    "ax.set_ylim([-250, 450])\n",
    "plt.title(\"True\")\n",
    "plt.tight_layout()\n",
    "plt.show()"
   ]
  },
  {
   "cell_type": "code",
   "execution_count": null,
   "metadata": {},
   "outputs": [],
   "source": []
  }
 ],
 "metadata": {
  "kernelspec": {
   "display_name": "Python 3",
   "language": "python",
   "name": "python3"
  },
  "language_info": {
   "codemirror_mode": {
    "name": "ipython",
    "version": 3
   },
   "file_extension": ".py",
   "mimetype": "text/x-python",
   "name": "python",
   "nbconvert_exporter": "python",
   "pygments_lexer": "ipython3",
   "version": "3.6.8"
  }
 },
 "nbformat": 4,
 "nbformat_minor": 4
}
