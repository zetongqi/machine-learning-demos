{
 "cells": [
  {
   "cell_type": "code",
   "execution_count": 1,
   "metadata": {},
   "outputs": [],
   "source": [
    "from sklearn.datasets import make_regression, load_boston\n",
    "from mpl_toolkits.mplot3d import Axes3D\n",
    "import numpy as np\n",
    "import matplotlib.pyplot as plt\n",
    "import matplotlib\n",
    "from sklearn.model_selection import train_test_split\n",
    "from cvxopt import matrix\n",
    "from cvxopt import solvers\n",
    "from numpy import linalg as LA\n",
    "from sklearn.preprocessing import StandardScaler"
   ]
  },
  {
   "cell_type": "code",
   "execution_count": 2,
   "metadata": {},
   "outputs": [],
   "source": [
    "X, y = make_regression(n_samples=1000, n_features=10, noise=0.2)\n",
    "colors = ['red','blue']\n",
    "seed = 1\n",
    "X_train, X_test, y_train, y_test = train_test_split(X, y, test_size=0.2, random_state=seed)"
   ]
  },
  {
   "cell_type": "code",
   "execution_count": 3,
   "metadata": {},
   "outputs": [],
   "source": [
    "def gaussian_kernel(x1, x2, gamma):\n",
    "    return np.exp(-gamma * LA.norm(x1-x2, axis=-1)**2)\n",
    "\n",
    "def poly_kernel(x1, x2, degree=3, r=2, gamma=1):\n",
    "    return (np.dot(x1.T, x2) * gamma + r) ** degree\n",
    "\n",
    "def sigmoid_kernel(x1, x2, gamma=1, r=1):\n",
    "    return np.tanh(gamma * np.dot(x1.T, x2) + r)\n",
    "\n",
    "def laplacian_kernel(x1, x2, gamma):\n",
    "    return np.exp(-gamma * LA.norm(x1-x2, axis=-1, ord=1))"
   ]
  },
  {
   "cell_type": "code",
   "execution_count": 4,
   "metadata": {},
   "outputs": [
    {
     "data": {
      "text/plain": [
       "array([[1.        , 0.02010688, 0.04327068, ..., 0.07667718, 0.09183642,\n",
       "        0.01880352],\n",
       "       [0.02010688, 1.        , 0.18268598, ..., 0.04479305, 0.43337584,\n",
       "        0.22748585],\n",
       "       [0.04327068, 0.18268598, 1.        , ..., 0.10901388, 0.40106913,\n",
       "        0.10661195],\n",
       "       ...,\n",
       "       [0.07667718, 0.04479305, 0.10901388, ..., 1.        , 0.1052943 ,\n",
       "        0.05279926],\n",
       "       [0.09183642, 0.43337584, 0.40106913, ..., 0.1052943 , 1.        ,\n",
       "        0.32824422],\n",
       "       [0.01880352, 0.22748585, 0.10661195, ..., 0.05279926, 0.32824422,\n",
       "        1.        ]])"
      ]
     },
     "execution_count": 4,
     "metadata": {},
     "output_type": "execute_result"
    }
   ],
   "source": [
    "m,n = X_train.shape\n",
    "K = np.zeros((m, m))\n",
    "gamma = 1 / ((X_train.shape[-1]) * X_train.var())\n",
    "for i, x_i in enumerate(X_train):\n",
    "    for j, x_j in enumerate(X_train):\n",
    "        K[i, j] = gaussian_kernel(x_i, x_j, gamma)\n",
    "K"
   ]
  },
  {
   "cell_type": "code",
   "execution_count": 5,
   "metadata": {},
   "outputs": [
    {
     "name": "stdout",
     "output_type": "stream",
     "text": [
      "     pcost       dcost       gap    pres   dres\n",
      " 0: -2.1037e+06 -1.6638e+07  3e+07  7e-01  3e-14\n",
      " 1: -2.0062e+06 -6.4532e+06  4e+06  3e-11  4e-14\n",
      " 2: -2.3791e+06 -2.9926e+06  6e+05  2e-11  4e-14\n",
      " 3: -2.5313e+06 -2.6615e+06  1e+05  8e-12  4e-14\n",
      " 4: -2.5707e+06 -2.5945e+06  2e+04  1e-11  4e-14\n",
      " 5: -2.5776e+06 -2.5818e+06  4e+03  1e-11  3e-14\n",
      " 6: -2.5792e+06 -2.5799e+06  7e+02  4e-11  3e-14\n",
      " 7: -2.5794e+06 -2.5795e+06  1e+02  5e-12  3e-14\n",
      " 8: -2.5795e+06 -2.5795e+06  9e+00  4e-11  3e-14\n",
      " 9: -2.5795e+06 -2.5795e+06  4e-01  4e-11  3e-14\n",
      "Optimal solution found.\n"
     ]
    }
   ],
   "source": [
    "C = 100\n",
    "epsilon = 0.1\n",
    "P = matrix(np.hstack((np.vstack((K, -K)), np.vstack((-K, K)))))\n",
    "q = matrix(np.vstack(((epsilon+y_train).reshape(y_train.shape[0], 1), (epsilon-y_train).reshape(y_train.shape[0], 1))))\n",
    "G = matrix(np.vstack((np.eye(2*m)*-1,np.eye(2*m))))\n",
    "h = matrix(np.hstack((np.zeros(2*m), np.ones(2*m) * C)))\n",
    "A = matrix(np.hstack((np.ones((1, m)), -np.ones((1, m)))))\n",
    "b = matrix(0.)\n",
    "\n",
    "#Run solver\n",
    "sol = solvers.qp(P, q, G, h, A, b)\n",
    "alphas = np.array(sol['x'])\n",
    "\n",
    "alphas = alphas.reshape(alphas.shape[0])"
   ]
  },
  {
   "cell_type": "code",
   "execution_count": 6,
   "metadata": {},
   "outputs": [
    {
     "data": {
      "text/plain": [
       "(800, 1)"
      ]
     },
     "execution_count": 6,
     "metadata": {},
     "output_type": "execute_result"
    }
   ],
   "source": [
    "alphas_plus = alphas[0:m]\n",
    "alphas_minus = alphas[m:len(alphas)]\n",
    "\n",
    "alpha = alphas_minus - alphas_plus\n",
    "\n",
    "sup_vec_idx = np.argwhere(np.logical_or(alpha > 1e-4, alpha < -1e-4))\n",
    "\n",
    "X_sup_vec = X_train[sup_vec_idx]\n",
    "y_sup_vec = y_train[sup_vec_idx]\n",
    "\n",
    "sup_vec_idx.shape"
   ]
  },
  {
   "cell_type": "code",
   "execution_count": 7,
   "metadata": {},
   "outputs": [
    {
     "data": {
      "text/plain": [
       "-1.3828419481033356"
      ]
     },
     "execution_count": 7,
     "metadata": {},
     "output_type": "execute_result"
    }
   ],
   "source": [
    "y_sup_vec = y_sup_vec.reshape(y_sup_vec.shape[0])\n",
    "sup_vec_num = sup_vec_idx.shape[0]\n",
    "pred_mtx = np.zeros(sup_vec_num)\n",
    "b = 0\n",
    "for i in range(sup_vec_num):\n",
    "    for j in range(sup_vec_num):\n",
    "        pred_mtx[j] = gaussian_kernel(X_sup_vec[j], X_sup_vec[0], gamma)\n",
    "    b += y_sup_vec[i] - epsilon - np.sum(alpha[sup_vec_idx] * y_sup_vec * pred_mtx)\n",
    "b /= sup_vec_num\n",
    "b"
   ]
  },
  {
   "cell_type": "code",
   "execution_count": 8,
   "metadata": {},
   "outputs": [],
   "source": [
    "pred = []\n",
    "for x_test in X_test:\n",
    "    y_hat = 0\n",
    "    for (x_train, a) in zip(X_sup_vec, alpha[sup_vec_idx]):\n",
    "        y_hat += a * gaussian_kernel(x_test, x_train, gamma)\n",
    "    y_hat += b\n",
    "    pred.append(y_hat)\n",
    "pred = np.array(pred)"
   ]
  },
  {
   "cell_type": "code",
   "execution_count": 9,
   "metadata": {},
   "outputs": [
    {
     "data": {
      "image/png": "[encoded data removed]",
      "text/plain": [
       "<Figure size 432x288 with 2 Axes>"
      ]
     },
     "metadata": {
      "needs_background": "light"
     },
     "output_type": "display_data"
    }
   ],
   "source": [
    "plt.subplot(1, 2, 1)\n",
    "plt.plot(range(X_test.shape[0]), y_test, c=\"green\")\n",
    "plt.xlabel(\"sample id\")\n",
    "plt.ylabel(\"output\")\n",
    "plt.title(\"true value\")\n",
    "plt.subplot(1, 2, 2)\n",
    "plt.plot(range(X_test.shape[0]), pred, c=\"blue\")\n",
    "plt.xlabel(\"sample id\")\n",
    "plt.ylabel(\"output\")\n",
    "plt.title(\"predicted value\")\n",
    "plt.tight_layout()"
   ]
  },
  {
   "cell_type": "code",
   "execution_count": null,
   "metadata": {},
   "outputs": [],
   "source": []
  }
 ],
 "metadata": {
  "kernelspec": {
   "display_name": "Python 3",
   "language": "python",
   "name": "python3"
  },
  "language_info": {
   "codemirror_mode": {
    "name": "ipython",
    "version": 3
   },
   "file_extension": ".py",
   "mimetype": "text/x-python",
   "name": "python",
   "nbconvert_exporter": "python",
   "pygments_lexer": "ipython3",
   "version": "3.6.8"
  }
 },
 "nbformat": 4,
 "nbformat_minor": 2
}
