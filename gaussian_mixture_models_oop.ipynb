{
 "cells": [
  {
   "cell_type": "code",
   "execution_count": 1,
   "metadata": {},
   "outputs": [],
   "source": [
    "from sklearn.datasets import make_circles, make_moons, make_blobs\n",
    "from scipy.stats import multivariate_normal\n",
    "from mpl_toolkits.mplot3d import Axes3D\n",
    "import numpy as np\n",
    "import matplotlib.pyplot as plt\n",
    "import matplotlib\n",
    "from sklearn.model_selection import train_test_split\n",
    "from cvxopt import matrix\n",
    "from cvxopt import solvers\n",
    "from numpy import linalg as LA"
   ]
  },
  {
   "cell_type": "code",
   "execution_count": 2,
   "metadata": {},
   "outputs": [
    {
     "data": {
      "image/png": "[encoded data removed]",
      "text/plain": [
       "<Figure size 432x288 with 1 Axes>"
      ]
     },
     "metadata": {
      "needs_background": "light"
     },
     "output_type": "display_data"
    }
   ],
   "source": [
    "X, y = make_blobs(n_samples=2000, centers=3)\n",
    "plt.scatter(X[:, 0], X[:, 1], c=\"blue\", s=2)\n",
    "y[y == 0] = -1"
   ]
  },
  {
   "cell_type": "code",
   "execution_count": 3,
   "metadata": {},
   "outputs": [],
   "source": [
    "def gaussian_pdf(x, mu, delta):\n",
    "    n = x.shape[0]\n",
    "    return np.exp(-1/2 * np.dot(np.dot((x-mu).T, np.linalg.inv(delta)), x-mu)) / ((2*np.pi)**(n/2) * np.linalg.det(delta)**(1/2))"
   ]
  },
  {
   "cell_type": "code",
   "execution_count": 4,
   "metadata": {},
   "outputs": [],
   "source": [
    "def likelihood(X, centers, deltas, priors):\n",
    "    l = 0\n",
    "    for x in X:\n",
    "        p = 0\n",
    "        for i in range(centers.shape[0]):\n",
    "            p += gaussian_pdf(x, centers[i], deltas[i]) * priors[i]\n",
    "        l += np.log(p)\n",
    "    return l"
   ]
  },
  {
   "cell_type": "code",
   "execution_count": 5,
   "metadata": {},
   "outputs": [],
   "source": [
    "class gmm:\n",
    "    def __init__(self, d, clusters):\n",
    "        self.d = d\n",
    "        self.clusters = clusters\n",
    "\n",
    "    def fit(self, X, max_iter=100):\n",
    "        centers = []\n",
    "        deltas = []\n",
    "        priors = []\n",
    "\n",
    "        for i in range(self.clusters):\n",
    "            centers.append(np.random.uniform(low=-10, high=10, size=(self.d)))\n",
    "            deltas.append(np.eye(self.d) * np.random.random_sample())\n",
    "            priors.append(np.random.random_sample(1))\n",
    "        centers = np.array(centers)\n",
    "        deltas = np.array(deltas)\n",
    "        priors = np.array(priors)\n",
    "\n",
    "        for it in range(max_iter):\n",
    "            # E step\n",
    "            if it % (max_iter/10) == 0:\n",
    "                print(likelihood(X, centers, deltas, priors))\n",
    "            w = []\n",
    "            for x in X:\n",
    "                pdf = []\n",
    "                for i in range(len(centers)):\n",
    "                    pdf.append(gaussian_pdf(x, centers[i], deltas[i]) * priors[i])\n",
    "                w.append(np.array(pdf).reshape(len(pdf)))\n",
    "            w = np.array(w)\n",
    "            w = np.divide(w, np.sum(w, axis=-1).reshape(w.shape[0], 1))\n",
    "\n",
    "            # M step\n",
    "            priors = np.sum(w, axis=0) / w.shape[0]\n",
    "            mus = []\n",
    "            dels = []\n",
    "            for i in range(self.clusters):\n",
    "                mu = np.sum(np.multiply(w[:, i].reshape(w.shape[0], 1), X), axis=0) / np.sum(w[:, i])\n",
    "                mus.append(mu)\n",
    "                delta = np.zeros((self.d, self.d))\n",
    "                for j in range(X.shape[0]):\n",
    "                    delta += np.multiply(w[j, i], np.outer(X[j]-centers[i], X[j]-centers[i])) / np.sum(w[:, i])\n",
    "                dels.append(delta)\n",
    "            centers = np.array(mus)\n",
    "            deltas = np.array(dels)\n",
    "        \n",
    "        self.centers = centers\n",
    "        self.deltas = deltas\n",
    "        self.priors = priors\n",
    "        \n",
    "    def plot_centers(self):\n",
    "        plt.scatter(self.centers[:, 0], self.centers[:, 1], c=\"blue\", s=10)\n",
    "        \n",
    "    def visualize_contours(self):\n",
    "        for i in range(self.clusters):\n",
    "            x = np.linspace(min(X[:, 0]), max(X[:, 0]), 100)\n",
    "            y = np.linspace(min(X[:, 1]), max(X[:, 1]), 100)\n",
    "            density = np.zeros((len(x), len(y)))\n",
    "            for (xpos, xidx) in zip(x, range(len(x))):\n",
    "                for (ypos, yidx) in zip(y, range(len(y))):\n",
    "                    pos = np.array([xpos, ypos])\n",
    "                    density[yidx, xidx] = gaussian_pdf(pos, self.centers[i], self.deltas[i])\n",
    "\n",
    "            Xd, Yd = np.meshgrid(x, y)\n",
    "            step = 0.01\n",
    "            m = np.amax(density)\n",
    "            levels = np.arange(0.0, m, step) + step\n",
    "            plt.contourf(x, y, density, levels, cmap='cool', alpha=0.5)\n",
    "        plt.colorbar()"
   ]
  },
  {
   "cell_type": "code",
   "execution_count": 6,
   "metadata": {},
   "outputs": [],
   "source": [
    "g = gmm(2, 3)"
   ]
  },
  {
   "cell_type": "code",
   "execution_count": 9,
   "metadata": {},
   "outputs": [
    {
     "name": "stdout",
     "output_type": "stream",
     "text": [
      "[-113659.24229965]\n",
      "-7933.286788795962\n",
      "-7933.286788795972\n",
      "-7933.286788795972\n",
      "-7933.286788795972\n",
      "-7933.286788795972\n",
      "-7933.286788795972\n",
      "-7933.286788795972\n",
      "-7933.286788795972\n",
      "-7933.286788795972\n"
     ]
    }
   ],
   "source": [
    "g.fit(X, max_iter=200)"
   ]
  },
  {
   "cell_type": "code",
   "execution_count": 10,
   "metadata": {},
   "outputs": [
    {
     "data": {
      "image/png": "[encoded data removed]",
      "text/plain": [
       "<Figure size 432x288 with 1 Axes>"
      ]
     },
     "metadata": {
      "needs_background": "light"
     },
     "output_type": "display_data"
    }
   ],
   "source": [
    "g.plot_centers()"
   ]
  },
  {
   "cell_type": "code",
   "execution_count": 11,
   "metadata": {},
   "outputs": [
    {
     "data": {
      "image/png": "[encoded data removed]",
      "text/plain": [
       "<Figure size 432x288 with 2 Axes>"
      ]
     },
     "metadata": {
      "needs_background": "light"
     },
     "output_type": "display_data"
    }
   ],
   "source": [
    "g.visualize_contours()"
   ]
  },
  {
   "cell_type": "code",
   "execution_count": null,
   "metadata": {},
   "outputs": [],
   "source": []
  }
 ],
 "metadata": {
  "kernelspec": {
   "display_name": "Python 3",
   "language": "python",
   "name": "python3"
  },
  "language_info": {
   "codemirror_mode": {
    "name": "ipython",
    "version": 3
   },
   "file_extension": ".py",
   "mimetype": "text/x-python",
   "name": "python",
   "nbconvert_exporter": "python",
   "pygments_lexer": "ipython3",
   "version": "3.6.8"
  }
 },
 "nbformat": 4,
 "nbformat_minor": 2
}
