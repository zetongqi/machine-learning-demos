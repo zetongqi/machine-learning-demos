{
 "cells": [
  {
   "cell_type": "markdown",
   "metadata": {},
   "source": [
    "# Online learning demo"
   ]
  },
  {
   "cell_type": "markdown",
   "metadata": {},
   "source": [
    "## load the boston housing dataset"
   ]
  },
  {
   "cell_type": "code",
   "execution_count": 1,
   "metadata": {},
   "outputs": [],
   "source": [
    "import csv\n",
    "import numpy as np\n",
    "X = []\n",
    "y = []\n",
    "with open('/Users/zetong/Boston.csv', newline='') as csvfile:\n",
    "    boston = csv.reader(csvfile, delimiter=' ', quotechar='|')\n",
    "    next(boston)\n",
    "    for row in boston:\n",
    "        datalist = row[0].split(\",\")\n",
    "        X.append(datalist[1:-1])\n",
    "        y.append(datalist[-1])\n",
    "X = np.asarray(X).astype(float)\n",
    "# add the offset term for linear regression\n",
    "offset = np.ones((X.shape[0], 1))\n",
    "X = np.append(X, offset, axis=1)\n",
    "y = np.asarray(y).astype(float)"
   ]
  },
  {
   "cell_type": "markdown",
   "metadata": {},
   "source": [
    "## spliting the training and testing set"
   ]
  },
  {
   "cell_type": "code",
   "execution_count": 2,
   "metadata": {},
   "outputs": [
    {
     "name": "stdout",
     "output_type": "stream",
     "text": [
      "(404, 14) (102, 14)\n"
     ]
    }
   ],
   "source": [
    "from sklearn.model_selection import train_test_split\n",
    "X_train, X_test, y_train, y_test = train_test_split(X, y, test_size=0.2, random_state=42)\n",
    "print(X_train.shape, X_test.shape)"
   ]
  },
  {
   "cell_type": "markdown",
   "metadata": {},
   "source": [
    "## functions to calculate gradients, loss and make predictions"
   ]
  },
  {
   "cell_type": "code",
   "execution_count": 3,
   "metadata": {},
   "outputs": [],
   "source": [
    "def get_gradient(x, y, beta, lamb):\n",
    "    x = np.reshape(x, (x.shape[0], 1))\n",
    "    return np.add(2*(y - np.dot(np.transpose(x), beta)) * (-x), lamb * np.divide(beta, np.absolute(beta)))"
   ]
  },
  {
   "cell_type": "code",
   "execution_count": 4,
   "metadata": {},
   "outputs": [],
   "source": [
    "def predict(x, beta, batch=True):\n",
    "    if not batch:\n",
    "        x = np.reshape(x, (x.shape[0], 1))\n",
    "        return np.reshape(np.dot(np.transpose(x), beta), 1)\n",
    "    else:\n",
    "        return np.dot(x, beta)"
   ]
  },
  {
   "cell_type": "code",
   "execution_count": 5,
   "metadata": {},
   "outputs": [],
   "source": [
    "def get_batch_gradient(x_batch, y_batch, beta, lamb, batch_size):\n",
    "    gradient_sum = np.zeros((x_batch.shape[1], 1))\n",
    "    for x, y in zip(x_batch, y_batch):\n",
    "        gradient_sum = np.add(gradient_sum, get_gradient(x, y, beta, lamb))\n",
    "    return gradient_sum / (2*batch_size)"
   ]
  },
  {
   "cell_type": "code",
   "execution_count": 6,
   "metadata": {},
   "outputs": [],
   "source": [
    "def get_loss(y, y_hat):\n",
    "    return np.sum(np.absolute(y-y_hat)) / y.shape[0]"
   ]
  },
  {
   "cell_type": "markdown",
   "metadata": {},
   "source": [
    "## begin the online learning algorithm"
   ]
  },
  {
   "cell_type": "code",
   "execution_count": 7,
   "metadata": {},
   "outputs": [],
   "source": [
    "epochs = 1000\n",
    "learning_rate = 0.000000001\n",
    "losses = []\n",
    "steps = 0\n",
    "batch_size = 16\n",
    "beta = np.random.rand(X.shape[1], 1)\n",
    "for i in range(epochs):\n",
    "    while steps < X_train.shape[0]:\n",
    "        x_batch = X[steps:steps+batch_size]\n",
    "        y_batch = y[steps:steps+batch_size]\n",
    "        beta -= learning_rate * get_batch_gradient(x_batch, y_batch, beta, 0.2, batch_size)\n",
    "        y_hat = predict(X_test, beta)\n",
    "        losses.append(get_loss(y_test, y_hat))\n",
    "        steps += batch_size\n",
    "    steps = 0"
   ]
  },
  {
   "cell_type": "markdown",
   "metadata": {},
   "source": [
    "## loss over rounds"
   ]
  },
  {
   "cell_type": "code",
   "execution_count": 9,
   "metadata": {},
   "outputs": [
    {
     "data": {
      "image/png": "[encoded data removed]",
      "text/plain": [
       "<Figure size 432x288 with 1 Axes>"
      ]
     },
     "metadata": {
      "needs_background": "light"
     },
     "output_type": "display_data"
    }
   ],
   "source": [
    "import matplotlib.pyplot as plt\n",
    "plt.plot(losses)\n",
    "plt.ylabel('loss')\n",
    "plt.xlabel('round')\n",
    "plt.show()"
   ]
  },
  {
   "cell_type": "code",
   "execution_count": null,
   "metadata": {},
   "outputs": [],
   "source": []
  }
 ],
 "metadata": {
  "kernelspec": {
   "display_name": "Python 3",
   "language": "python",
   "name": "python3"
  },
  "language_info": {
   "codemirror_mode": {
    "name": "ipython",
    "version": 3
   },
   "file_extension": ".py",
   "mimetype": "text/x-python",
   "name": "python",
   "nbconvert_exporter": "python",
   "pygments_lexer": "ipython3",
   "version": "3.6.8"
  }
 },
 "nbformat": 4,
 "nbformat_minor": 2
}
