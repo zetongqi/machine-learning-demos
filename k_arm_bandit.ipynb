{
 "cells": [
  {
   "cell_type": "code",
   "execution_count": 1,
   "metadata": {},
   "outputs": [],
   "source": [
    "import numpy as np\n",
    "import matplotlib.pyplot as plt"
   ]
  },
  {
   "cell_type": "code",
   "execution_count": 2,
   "metadata": {},
   "outputs": [],
   "source": [
    "class k_arm_bandit:\n",
    "    def __init__(self, K, epsilon):\n",
    "        self.K = K\n",
    "        self.epsilon = epsilon\n",
    "        self.Q = np.array([0] * K)\n",
    "        self.N = np.array([0] * K)\n",
    "        self.mean = np.array([2, 1, -1.2, 5, 10, -0.2, 4, 6.8, -5, 0])\n",
    "        self.cov = np.eye(K)\n",
    "        \n",
    "    def pull(self, a):\n",
    "        return np.random.multivariate_normal(self.mean, self.cov)[a]\n",
    "    \n",
    "    def explore_and_exploit(self, rounds=10000):\n",
    "        reward_sum = 0.\n",
    "        avg_reward = []\n",
    "        reward_sum = 0\n",
    "        for i in range(rounds):\n",
    "            prob = np.random.uniform(0, 1)\n",
    "            if prob >= self.epsilon:\n",
    "                maxes = np.argwhere(self.Q == np.amax(self.Q))\n",
    "                action = maxes[np.random.randint(0, len(maxes))][0]\n",
    "            else:\n",
    "                action = np.random.randint(0, self.K)\n",
    "            reward = self.pull(action)\n",
    "            self.N[action] += 1\n",
    "            self.Q[action] += (1/(self.N[action]) * (reward - self.Q[action])).astype(\"float\")\n",
    "            reward_sum += reward\n",
    "            avg_reward.append(reward_sum / i)\n",
    "            \n",
    "        return np.array(avg_reward)\n",
    "    "
   ]
  },
  {
   "cell_type": "code",
   "execution_count": 3,
   "metadata": {},
   "outputs": [
    {
     "name": "stderr",
     "output_type": "stream",
     "text": [
      "/Library/Frameworks/Python.framework/Versions/3.6/lib/python3.6/site-packages/ipykernel_launcher.py:28: RuntimeWarning: divide by zero encountered in double_scalars\n",
      "/Library/Frameworks/Python.framework/Versions/3.6/lib/python3.6/site-packages/ipykernel_launcher.py:6: RuntimeWarning: invalid value encountered in add\n",
      "  \n",
      "/Library/Frameworks/Python.framework/Versions/3.6/lib/python3.6/site-packages/ipykernel_launcher.py:5: RuntimeWarning: invalid value encountered in add\n",
      "  \"\"\"\n"
     ]
    }
   ],
   "source": [
    "rounds = 1000\n",
    "rewards1 = np.zeros((rounds,))\n",
    "rewards2 = np.zeros((rounds,))\n",
    "for i in range(2000):\n",
    "    rewards1 += k_arm_bandit(10, 0.1).explore_and_exploit(rounds)\n",
    "    rewards2 += k_arm_bandit(10, 0.01).explore_and_exploit(rounds)\n",
    "rewards1 /= 2000\n",
    "rewards2 /= 2000"
   ]
  },
  {
   "cell_type": "code",
   "execution_count": 4,
   "metadata": {},
   "outputs": [
    {
     "data": {
      "text/plain": [
       "[<matplotlib.lines.Line2D at 0x1149fc400>]"
      ]
     },
     "execution_count": 4,
     "metadata": {},
     "output_type": "execute_result"
    },
    {
     "data": {
      "image/png": "[encoded data removed]",
      "text/plain": [
       "<Figure size 432x288 with 1 Axes>"
      ]
     },
     "metadata": {
      "needs_background": "light"
     },
     "output_type": "display_data"
    }
   ],
   "source": [
    "plt.plot(list(range(rounds)), rewards1, c='blue', markersize=0.1)\n",
    "plt.plot(list(range(rounds)), rewards2, c='yellow', markersize=0.1)"
   ]
  },
  {
   "cell_type": "code",
   "execution_count": null,
   "metadata": {},
   "outputs": [],
   "source": []
  }
 ],
 "metadata": {
  "kernelspec": {
   "display_name": "Python 3",
   "language": "python",
   "name": "python3"
  },
  "language_info": {
   "codemirror_mode": {
    "name": "ipython",
    "version": 3
   },
   "file_extension": ".py",
   "mimetype": "text/x-python",
   "name": "python",
   "nbconvert_exporter": "python",
   "pygments_lexer": "ipython3",
   "version": "3.6.8"
  }
 },
 "nbformat": 4,
 "nbformat_minor": 4
}
