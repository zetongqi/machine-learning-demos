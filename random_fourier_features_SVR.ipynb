{
 "cells": [
  {
   "cell_type": "code",
   "execution_count": 1,
   "metadata": {},
   "outputs": [],
   "source": [
    "from sklearn.datasets import make_regression, load_boston, make_swiss_roll, make_blobs, make_moons\n",
    "from mpl_toolkits.mplot3d import Axes3D\n",
    "import numpy as np\n",
    "import matplotlib.pyplot as plt\n",
    "import matplotlib\n",
    "from sklearn.model_selection import train_test_split\n",
    "from cvxopt import matrix\n",
    "from cvxopt import solvers\n",
    "from numpy import linalg as LA\n",
    "from sklearn.preprocessing import StandardScaler"
   ]
  },
  {
   "cell_type": "code",
   "execution_count": 2,
   "metadata": {},
   "outputs": [],
   "source": [
    "X, y = make_regression(n_samples=1000, n_features=3, noise=0.1)\n",
    "seed = 1\n",
    "X_train, X_test, y_train, y_test = train_test_split(X, y, test_size=0.2, random_state=seed)"
   ]
  },
  {
   "cell_type": "code",
   "execution_count": 3,
   "metadata": {},
   "outputs": [],
   "source": [
    "def gaussian_fourier(w):\n",
    "    return (2*np.pi)**(-w.shape[0]/2) * np.exp(-LA.norm(w)/2)\n",
    "\n",
    "def laplacian_fourier(w):\n",
    "    p = 1\n",
    "    for i in range(w.shape[0]):\n",
    "        p *= 1 / (np.pi * (1 + w[i]))\n",
    "    return p"
   ]
  },
  {
   "cell_type": "code",
   "execution_count": 4,
   "metadata": {},
   "outputs": [],
   "source": [
    "def metropolis_hastings(p, dim, iter=1000):\n",
    "    x = np.zeros(dim)\n",
    "    samples = np.zeros((iter, dim))\n",
    "\n",
    "    for i in range(iter):\n",
    "        x_next = x + np.random.multivariate_normal(np.zeros(dim), np.eye(dim))\n",
    "        if np.random.rand() < p(x_next) / p(x):\n",
    "            x = x_next\n",
    "        samples[i] = x\n",
    "\n",
    "    return samples"
   ]
  },
  {
   "cell_type": "code",
   "execution_count": 5,
   "metadata": {},
   "outputs": [],
   "source": [
    "D = 300\n",
    "d = 3\n",
    "max_iter = 10000\n",
    "X_train_original, X_test_original, y_train, y_test = train_test_split(X, y, test_size=0.2, random_state=seed)\n",
    "\n",
    "s = metropolis_hastings(gaussian_fourier, dim=d, iter=max_iter)\n",
    "w = s[np.random.randint(low=100, high=max_iter, size=D)]\n",
    "b = np.random.uniform(low=0, high=2*np.pi, size=D)\n",
    "X_train = np.zeros((X_train_original.shape[0], D))\n",
    "X_test = np.zeros((X_test_original.shape[0], D))\n",
    "\n",
    "for i in range(X_train_original.shape[0]):\n",
    "    for j in range(D):\n",
    "        X_train[i, j] = np.cos(np.dot(w[j], X_train_original[i]) + b[j]) * np.sqrt(2/D)\n",
    "\n",
    "for i in range(X_test_original.shape[0]):\n",
    "    for j in range(D):\n",
    "        X_test[i, j] = np.cos(np.dot(w[j], X_test_original[i]) + b[j]) * np.sqrt(2/D)"
   ]
  },
  {
   "cell_type": "code",
   "execution_count": 6,
   "metadata": {},
   "outputs": [
    {
     "data": {
      "text/plain": [
       "(800, 300)"
      ]
     },
     "execution_count": 6,
     "metadata": {},
     "output_type": "execute_result"
    }
   ],
   "source": [
    "X_train.shape"
   ]
  },
  {
   "cell_type": "code",
   "execution_count": 7,
   "metadata": {},
   "outputs": [],
   "source": [
    "K = np.dot(X_train, X_train.T)"
   ]
  },
  {
   "cell_type": "code",
   "execution_count": 8,
   "metadata": {},
   "outputs": [
    {
     "name": "stdout",
     "output_type": "stream",
     "text": [
      "     pcost       dcost       gap    pres   dres\n",
      " 0: -1.7041e+06 -2.3791e+08  2e+08  3e-10  9e-14\n",
      " 1: -4.0979e+06 -3.6581e+07  3e+07  8e-11  1e-13\n",
      " 2: -5.5955e+06 -1.2173e+07  7e+06  1e-10  1e-13\n",
      " 3: -6.1837e+06 -8.8901e+06  3e+06  2e-10  1e-13\n",
      " 4: -6.4516e+06 -7.6453e+06  1e+06  4e-11  1e-13\n",
      " 5: -6.5964e+06 -7.1464e+06  6e+05  1e-10  9e-14\n",
      " 6: -6.6703e+06 -6.9416e+06  3e+05  7e-10  1e-13\n",
      " 7: -6.7129e+06 -6.8281e+06  1e+05  4e-10  9e-14\n",
      " 8: -6.7354e+06 -6.7794e+06  4e+04  1e-10  8e-14\n",
      " 9: -6.7440e+06 -6.7614e+06  2e+04  3e-10  9e-14\n",
      "10: -6.7483e+06 -6.7539e+06  6e+03  6e-10  8e-14\n",
      "11: -6.7498e+06 -6.7513e+06  1e+03  3e-10  8e-14\n",
      "12: -6.7502e+06 -6.7506e+06  4e+02  3e-10  8e-14\n",
      "13: -6.7503e+06 -6.7504e+06  1e+02  5e-10  8e-14\n",
      "14: -6.7504e+06 -6.7504e+06  1e+01  3e-10  8e-14\n",
      "15: -6.7504e+06 -6.7504e+06  9e-01  2e-10  8e-14\n",
      "Optimal solution found.\n"
     ]
    }
   ],
   "source": [
    "C = 1000\n",
    "epsilon = 0.1\n",
    "m,n = X_train.shape\n",
    "\n",
    "P = matrix(np.hstack((np.vstack((K, -K)), np.vstack((-K, K)))))\n",
    "q = matrix(np.vstack(((epsilon+y_train).reshape(y_train.shape[0], 1), (epsilon-y_train).reshape(y_train.shape[0], 1))))\n",
    "G = matrix(np.vstack((np.eye(2*m)*-1,np.eye(2*m))))\n",
    "h = matrix(np.hstack((np.zeros(2*m), np.ones(2*m) * C)))\n",
    "A = matrix(np.hstack((np.ones((1, m)), -np.ones((1, m)))))\n",
    "b = matrix(0.)\n",
    "\n",
    "#Run solver\n",
    "sol = solvers.qp(P, q, G, h, A, b)\n",
    "alphas = np.array(sol['x'])\n",
    "\n",
    "alphas = alphas.reshape(alphas.shape[0])"
   ]
  },
  {
   "cell_type": "code",
   "execution_count": 9,
   "metadata": {},
   "outputs": [],
   "source": [
    "alphas_plus = alphas[0:m]\n",
    "alphas_minus = alphas[m:len(alphas)]\n",
    "\n",
    "alpha = alphas_minus - alphas_plus\n",
    "\n",
    "sup_vec_idx = np.union1d(np.argwhere(np.logical_or(alphas_minus > 1e-2, alphas_minus < -1e-2)), np.argwhere(np.logical_or(alphas_plus > 1e-2, alphas_plus < -1e-2)))\n",
    "sup_vec_idx = sup_vec_idx.reshape(sup_vec_idx.shape[0])\n",
    "\n",
    "X_sup_vec = X_train[sup_vec_idx]\n",
    "y_sup_vec = y_train[sup_vec_idx]\n",
    "alpha_sup_vec = alpha[sup_vec_idx]"
   ]
  },
  {
   "cell_type": "code",
   "execution_count": 10,
   "metadata": {},
   "outputs": [],
   "source": [
    "w = np.zeros(D)\n",
    "for i in range(alpha_sup_vec.shape[0]):\n",
    "    w += alpha_sup_vec[i] * X_sup_vec[i]"
   ]
  },
  {
   "cell_type": "code",
   "execution_count": 11,
   "metadata": {},
   "outputs": [
    {
     "data": {
      "text/plain": [
       "-79.46779075944892"
      ]
     },
     "execution_count": 11,
     "metadata": {},
     "output_type": "execute_result"
    }
   ],
   "source": [
    "idx1 = np.union1d(np.argwhere(alphas_minus < C-1), np.argwhere(alphas_plus > 1e-4))\n",
    "idx2 = np.union1d(np.argwhere(alphas_minus > 1e-4), np.argwhere(alphas_plus < C-1))\n",
    "b = (np.min(-epsilon + y_train[idx2] - np.dot(X_train[idx2], w)) + np.max(-epsilon + y_train[idx1] - np.dot(X_train[idx1], w))) / 2\n",
    "b"
   ]
  },
  {
   "cell_type": "code",
   "execution_count": 12,
   "metadata": {},
   "outputs": [],
   "source": [
    "y_sup_vec = y_sup_vec.reshape(y_sup_vec.shape[0])\n",
    "sup_vec_num = sup_vec_idx.shape[0]\n",
    "pred_mtx = np.zeros(sup_vec_num)"
   ]
  },
  {
   "cell_type": "code",
   "execution_count": 13,
   "metadata": {},
   "outputs": [],
   "source": [
    "pred = []\n",
    "for x_test in X_test:\n",
    "    y_hat = np.dot(x_test, w) + b\n",
    "    pred.append(y_hat)\n",
    "pred = np.array(pred).squeeze()"
   ]
  },
  {
   "cell_type": "code",
   "execution_count": 35,
   "metadata": {},
   "outputs": [
    {
     "data": {
      "image/png": "[encoded data removed]",
      "text/plain": [
       "<Figure size 432x288 with 2 Axes>"
      ]
     },
     "metadata": {
      "needs_background": "light"
     },
     "output_type": "display_data"
    }
   ],
   "source": [
    "ax1 = plt.subplot(1, 2, 1)\n",
    "ax1.plot(range(X_test.shape[0]), y_test, c=\"green\")\n",
    "ax1.set_ylim([-200, 200])\n",
    "plt.xlabel(\"sample id\")\n",
    "plt.ylabel(\"output\")\n",
    "plt.title(\"true value\")\n",
    "ax2 = plt.subplot(1, 2, 2)\n",
    "ax2.plot(range(X_test.shape[0]), pred, c=\"blue\")\n",
    "ax2.set_ylim([-200, 200])\n",
    "plt.xlabel(\"sample id\")\n",
    "plt.ylabel(\"output\")\n",
    "plt.title(\"predicted value\")\n",
    "plt.tight_layout()"
   ]
  },
  {
   "cell_type": "code",
   "execution_count": 26,
   "metadata": {},
   "outputs": [
    {
     "data": {
      "text/plain": [
       "345.01625289511867"
      ]
     },
     "execution_count": 26,
     "metadata": {},
     "output_type": "execute_result"
    }
   ],
   "source": [
    "np.sqrt(LA.norm(pred - y_test)**2)"
   ]
  },
  {
   "cell_type": "code",
   "execution_count": null,
   "metadata": {},
   "outputs": [],
   "source": []
  }
 ],
 "metadata": {
  "kernelspec": {
   "display_name": "Python 3",
   "language": "python",
   "name": "python3"
  },
  "language_info": {
   "codemirror_mode": {
    "name": "ipython",
    "version": 3
   },
   "file_extension": ".py",
   "mimetype": "text/x-python",
   "name": "python",
   "nbconvert_exporter": "python",
   "pygments_lexer": "ipython3",
   "version": "3.6.8"
  }
 },
 "nbformat": 4,
 "nbformat_minor": 2
}
