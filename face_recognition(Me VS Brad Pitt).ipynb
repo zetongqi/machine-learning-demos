{
 "cells": [
  {
   "cell_type": "code",
   "execution_count": 1,
   "metadata": {},
   "outputs": [],
   "source": [
    "import tensorflow as tf\n",
    "from mtcnn.mtcnn import MTCNN\n",
    "import PIL\n",
    "import numpy as np\n",
    "from sklearn import preprocessing"
   ]
  },
  {
   "cell_type": "code",
   "execution_count": 2,
   "metadata": {},
   "outputs": [
    {
     "name": "stderr",
     "output_type": "stream",
     "text": [
      "WARNING: Logging before flag parsing goes to stderr.\n",
      "W1030 21:11:08.271795 4581832128 hdf5_format.py:221] No training configuration found in save file: the model was *not* compiled. Compile it manually.\n"
     ]
    }
   ],
   "source": [
    "model = tf.keras.models.load_model('facenet_keras.h5')"
   ]
  },
  {
   "cell_type": "code",
   "execution_count": 3,
   "metadata": {},
   "outputs": [
    {
     "name": "stderr",
     "output_type": "stream",
     "text": [
      "W1030 21:11:08.308647 4581832128 deprecation.py:506] From /Library/Frameworks/Python.framework/Versions/3.6/lib/python3.6/site-packages/tensorflow/python/ops/init_ops.py:1251: calling VarianceScaling.__init__ (from tensorflow.python.ops.init_ops) with dtype is deprecated and will be removed in a future version.\n",
      "Instructions for updating:\n",
      "Call initializer instance with the dtype argument instead of passing it to the constructor\n"
     ]
    }
   ],
   "source": [
    "for layer in model.layers:\n",
    "    layer.trainable=False\n",
    "dense1 = tf.keras.layers.Dense(64)(model.outputs[0])\n",
    "out = tf.keras.layers.Dense(2, activation='softmax')(dense1)\n",
    "model = tf.keras.Model(model.inputs[0], out)\n",
    "model.compile(loss=\"sparse_categorical_crossentropy\", optimizer=\"adam\", metrics=[\"acc\"])"
   ]
  },
  {
   "cell_type": "code",
   "execution_count": 17,
   "metadata": {},
   "outputs": [
    {
     "name": "stdout",
     "output_type": "stream",
     "text": [
      "[<tf.Tensor 'input_1:0' shape=(?, 160, 160, 3) dtype=float32>]\n",
      "[<tf.Tensor 'dense_1/Softmax:0' shape=(?, 2) dtype=float32>]\n"
     ]
    }
   ],
   "source": [
    "print(model.inputs)\n",
    "print(model.outputs)"
   ]
  },
  {
   "cell_type": "code",
   "execution_count": 5,
   "metadata": {},
   "outputs": [
    {
     "name": "stdout",
     "output_type": "stream",
     "text": [
      "[<tf.Tensor 'input_1:0' shape=(?, 160, 160, 3) dtype=float32>]\n",
      "[<tf.Tensor 'dense_1/Softmax:0' shape=(?, 2) dtype=float32>]\n"
     ]
    }
   ],
   "source": [
    "print(model.inputs)\n",
    "print(model.outputs)"
   ]
  },
  {
   "cell_type": "code",
   "execution_count": 6,
   "metadata": {},
   "outputs": [],
   "source": [
    "def extract_face(img_loc):\n",
    "    image = PIL.Image.open(img_loc)\n",
    "    image = image.convert('RGB')\n",
    "    pixels = np.asarray(image)\n",
    "    detector = MTCNN()\n",
    "    results = detector.detect_faces(pixels)\n",
    "    x1, y1, width, height = results[0]['box']\n",
    "    x1, y1 = abs(x1), abs(y1)\n",
    "    x2, y2 = x1 + width, y1 + height\n",
    "    face = pixels[y1:y2, x1:x2]\n",
    "    image = PIL.Image.fromarray(face)\n",
    "    image = image.resize((160, 160))\n",
    "    face_array = np.asarray(image)\n",
    "    mean, std = face_array.mean(), face_array.std()\n",
    "    face_array = (face_array - mean) / std\n",
    "    return face_array"
   ]
  },
  {
   "cell_type": "code",
   "execution_count": 7,
   "metadata": {},
   "outputs": [],
   "source": [
    "from os import listdir\n",
    "from os.path import isfile, join\n",
    "dir1 = \"/Users/zetong/Faces/Qi\"\n",
    "dir2 = \"/Users/zetong/Faces/Pitt\"\n",
    "qi = [join(dir1, f) for f in listdir(dir1) if isfile(join(dir1, f))]\n",
    "pitt = [join(dir2, f) for f in listdir(dir2) if isfile(join(dir2, f))]\n",
    "qi_y = [0]*len(qi)\n",
    "pitt_y = [1]*len(pitt)\n",
    "y = qi_y + pitt_y\n",
    "X = qi + pitt\n",
    "le = preprocessing.LabelEncoder()\n",
    "le.fit(y)\n",
    "y = le.transform(y)"
   ]
  },
  {
   "cell_type": "markdown",
   "metadata": {},
   "source": [
    "## Real time image processing pipeline (saves memory with high time overhead)"
   ]
  },
  {
   "cell_type": "code",
   "execution_count": 2,
   "metadata": {},
   "outputs": [],
   "source": [
    "def make_dataset(xarr, yarr):\n",
    "    dataset = tf.data.Dataset.from_tensor_slices((xarr, yarr)).repeat()\n",
    "    \n",
    "    def _extract_face(img_loc):\n",
    "        img_loc = img_loc.numpy().decode()\n",
    "        image = PIL.Image.open(img_loc)\n",
    "        image = image.convert('RGB')\n",
    "        pixels = np.asarray(image)\n",
    "        detector = MTCNN()\n",
    "        results = detector.detect_faces(pixels)\n",
    "        x1, y1, width, height = results[0]['box']\n",
    "        x1, y1 = abs(x1), abs(y1)\n",
    "        x2, y2 = x1 + width, y1 + height\n",
    "        face = pixels[y1:y2, x1:x2]\n",
    "        image = PIL.Image.fromarray(face)\n",
    "        image = image.resize((160, 160))\n",
    "        face_array = np.asarray(image)\n",
    "        mean, std = face_array.mean(), face_array.std()\n",
    "        face_array = (face_array - mean) / std\n",
    "        return face_array\n",
    "    \n",
    "    def _process_datapair(X, y):\n",
    "        X = tf.py_function(_extract_face, [X], tf.float32)\n",
    "        X.set_shape([160, 160, 3])\n",
    "        y.set_shape([])\n",
    "        return X, y\n",
    "    dataset = dataset.map(_process_datapair)\n",
    "    return dataset.shuffle(buffer_size=200).batch(8).prefetch(8)"
   ]
  },
  {
   "cell_type": "code",
   "execution_count": 156,
   "metadata": {},
   "outputs": [],
   "source": [
    "from sklearn.model_selection import train_test_split\n",
    "X_train, X_test, y_train, y_test = train_test_split(X, y, test_size=0.2, random_state=42)\n",
    "X_train, X_val, y_train, y_val = train_test_split(X_train, y_train, test_size=0.1, random_state=42)"
   ]
  },
  {
   "cell_type": "code",
   "execution_count": 157,
   "metadata": {},
   "outputs": [],
   "source": [
    "train = make_dataset(X_train, y_train)\n",
    "val = make_dataset(X_val, y_val)\n",
    "test = make_dataset(X_test, y_test)"
   ]
  },
  {
   "cell_type": "code",
   "execution_count": null,
   "metadata": {},
   "outputs": [
    {
     "name": "stdout",
     "output_type": "stream",
     "text": [
      "Epoch 1/20\n"
     ]
    }
   ],
   "source": [
    "batch_size = 8\n",
    "filename = \"QiPittFace.h5\"\n",
    "model.fit(train, validation_data=val, validation_steps = len(X_val) / batch_size, steps_per_epoch=len(X_train) / batch_size, epochs=20)"
   ]
  },
  {
   "cell_type": "markdown",
   "metadata": {},
   "source": [
    "## Preprocess all images to tensors (fast training with high memory overhead)"
   ]
  },
  {
   "cell_type": "code",
   "execution_count": 8,
   "metadata": {},
   "outputs": [
    {
     "name": "stderr",
     "output_type": "stream",
     "text": [
      "W1030 21:14:03.949308 4581832128 deprecation_wrapper.py:119] From /Library/Frameworks/Python.framework/Versions/3.6/lib/python3.6/site-packages/mtcnn/mtcnn.py:187: The name tf.ConfigProto is deprecated. Please use tf.compat.v1.ConfigProto instead.\n",
      "\n",
      "W1030 21:14:03.950679 4581832128 deprecation_wrapper.py:119] From /Library/Frameworks/Python.framework/Versions/3.6/lib/python3.6/site-packages/mtcnn/mtcnn.py:193: The name tf.Session is deprecated. Please use tf.compat.v1.Session instead.\n",
      "\n",
      "W1030 21:14:03.972729 4581832128 deprecation_wrapper.py:119] From /Library/Frameworks/Python.framework/Versions/3.6/lib/python3.6/site-packages/mtcnn/network.py:43: The name tf.variable_scope is deprecated. Please use tf.compat.v1.variable_scope instead.\n",
      "\n",
      "W1030 21:14:03.973877 4581832128 deprecation_wrapper.py:119] From /Library/Frameworks/Python.framework/Versions/3.6/lib/python3.6/site-packages/mtcnn/layer_factory.py:88: The name tf.placeholder is deprecated. Please use tf.compat.v1.placeholder instead.\n",
      "\n",
      "W1030 21:14:03.978765 4581832128 deprecation_wrapper.py:119] From /Library/Frameworks/Python.framework/Versions/3.6/lib/python3.6/site-packages/mtcnn/layer_factory.py:79: The name tf.get_variable is deprecated. Please use tf.compat.v1.get_variable instead.\n",
      "\n",
      "W1030 21:14:04.025845 4581832128 deprecation_wrapper.py:119] From /Library/Frameworks/Python.framework/Versions/3.6/lib/python3.6/site-packages/mtcnn/layer_factory.py:171: The name tf.nn.max_pool is deprecated. Please use tf.nn.max_pool2d instead.\n",
      "\n",
      "W1030 21:14:04.106755 4581832128 deprecation.py:323] From /Library/Frameworks/Python.framework/Versions/3.6/lib/python3.6/site-packages/mtcnn/layer_factory.py:221: div (from tensorflow.python.ops.math_ops) is deprecated and will be removed in a future version.\n",
      "Instructions for updating:\n",
      "Deprecated in favor of operator or tf.math.divide.\n",
      "W1030 21:14:04.311404 4581832128 deprecation_wrapper.py:119] From /Library/Frameworks/Python.framework/Versions/3.6/lib/python3.6/site-packages/mtcnn/layer_factory.py:196: The name tf.nn.xw_plus_b is deprecated. Please use tf.compat.v1.nn.xw_plus_b instead.\n",
      "\n"
     ]
    }
   ],
   "source": [
    "X_arr = np.array([extract_face(x) for x in X])\n",
    "np.save(\"train_data.npy\", X_arr)"
   ]
  },
  {
   "cell_type": "code",
   "execution_count": 9,
   "metadata": {},
   "outputs": [],
   "source": [
    "from sklearn.model_selection import train_test_split\n",
    "X_train, X_test, y_train, y_test = train_test_split(X_arr, y, test_size=0.2, random_state=42)"
   ]
  },
  {
   "cell_type": "code",
   "execution_count": 10,
   "metadata": {},
   "outputs": [
    {
     "name": "stdout",
     "output_type": "stream",
     "text": [
      "Train on 155 samples, validate on 18 samples\n",
      "Epoch 1/30\n",
      "155/155 [==============================] - 7s 47ms/sample - loss: 0.4744 - acc: 0.8129 - val_loss: 0.1001 - val_acc: 0.9444\n",
      "Epoch 2/30\n",
      "155/155 [==============================] - 5s 32ms/sample - loss: 0.3329 - acc: 0.8452 - val_loss: 0.1842 - val_acc: 0.9444\n",
      "Epoch 3/30\n",
      "155/155 [==============================] - 5s 32ms/sample - loss: 0.2899 - acc: 0.8710 - val_loss: 0.1963 - val_acc: 0.9444\n",
      "Epoch 4/30\n",
      "155/155 [==============================] - 5s 32ms/sample - loss: 0.2180 - acc: 0.9097 - val_loss: 0.1305 - val_acc: 1.0000\n",
      "Epoch 5/30\n",
      "155/155 [==============================] - 5s 33ms/sample - loss: 0.1621 - acc: 0.9548 - val_loss: 0.0758 - val_acc: 1.0000\n",
      "Epoch 6/30\n",
      "155/155 [==============================] - 5s 33ms/sample - loss: 0.1177 - acc: 0.9742 - val_loss: 0.0310 - val_acc: 1.0000\n",
      "Epoch 7/30\n",
      "155/155 [==============================] - 5s 32ms/sample - loss: 0.0870 - acc: 0.9677 - val_loss: 0.0348 - val_acc: 1.0000\n",
      "Epoch 8/30\n",
      "155/155 [==============================] - 5s 33ms/sample - loss: 0.0792 - acc: 0.9806 - val_loss: 0.0161 - val_acc: 1.0000\n",
      "Epoch 9/30\n",
      "155/155 [==============================] - 5s 33ms/sample - loss: 0.1036 - acc: 0.9677 - val_loss: 0.0474 - val_acc: 1.0000\n",
      "Epoch 10/30\n",
      "155/155 [==============================] - 5s 33ms/sample - loss: 0.0909 - acc: 0.9742 - val_loss: 0.0283 - val_acc: 1.0000\n",
      "Epoch 11/30\n",
      "155/155 [==============================] - 5s 33ms/sample - loss: 0.0466 - acc: 1.0000 - val_loss: 0.0160 - val_acc: 1.0000\n",
      "Epoch 12/30\n",
      "155/155 [==============================] - 5s 33ms/sample - loss: 0.0712 - acc: 0.9742 - val_loss: 0.0201 - val_acc: 1.0000\n",
      "Epoch 13/30\n",
      "155/155 [==============================] - 5s 33ms/sample - loss: 0.0593 - acc: 0.9806 - val_loss: 0.0087 - val_acc: 1.0000\n",
      "Epoch 14/30\n",
      "155/155 [==============================] - 5s 33ms/sample - loss: 0.0625 - acc: 0.9806 - val_loss: 0.0116 - val_acc: 1.0000\n",
      "Epoch 15/30\n",
      "155/155 [==============================] - 5s 33ms/sample - loss: 0.0609 - acc: 0.9935 - val_loss: 0.0131 - val_acc: 1.0000\n",
      "Epoch 16/30\n",
      "155/155 [==============================] - 5s 33ms/sample - loss: 0.0263 - acc: 1.0000 - val_loss: 0.0091 - val_acc: 1.0000\n",
      "Epoch 17/30\n",
      "155/155 [==============================] - 5s 33ms/sample - loss: 0.0212 - acc: 1.0000 - val_loss: 0.0091 - val_acc: 1.0000\n",
      "Epoch 18/30\n",
      "155/155 [==============================] - 5s 33ms/sample - loss: 0.0263 - acc: 1.0000 - val_loss: 0.0108 - val_acc: 1.0000\n",
      "Epoch 19/30\n",
      "155/155 [==============================] - 5s 33ms/sample - loss: 0.0259 - acc: 0.9935 - val_loss: 0.0179 - val_acc: 1.0000\n",
      "Epoch 20/30\n",
      "155/155 [==============================] - 5s 33ms/sample - loss: 0.0215 - acc: 1.0000 - val_loss: 0.0078 - val_acc: 1.0000\n",
      "Epoch 21/30\n",
      "155/155 [==============================] - 5s 33ms/sample - loss: 0.0214 - acc: 1.0000 - val_loss: 0.0067 - val_acc: 1.0000\n",
      "Epoch 22/30\n",
      "155/155 [==============================] - 5s 32ms/sample - loss: 0.0262 - acc: 1.0000 - val_loss: 0.0044 - val_acc: 1.0000\n",
      "Epoch 23/30\n",
      "155/155 [==============================] - 5s 33ms/sample - loss: 0.0430 - acc: 0.9871 - val_loss: 0.0031 - val_acc: 1.0000\n",
      "Epoch 24/30\n",
      "155/155 [==============================] - 5s 33ms/sample - loss: 0.0237 - acc: 1.0000 - val_loss: 0.0054 - val_acc: 1.0000\n",
      "Epoch 25/30\n",
      "155/155 [==============================] - 5s 33ms/sample - loss: 0.0519 - acc: 0.9871 - val_loss: 0.0021 - val_acc: 1.0000\n",
      "Epoch 26/30\n",
      "155/155 [==============================] - 5s 33ms/sample - loss: 0.0333 - acc: 0.9871 - val_loss: 0.0065 - val_acc: 1.0000\n",
      "Epoch 27/30\n",
      "155/155 [==============================] - 5s 33ms/sample - loss: 0.0215 - acc: 1.0000 - val_loss: 0.0029 - val_acc: 1.0000\n",
      "Epoch 28/30\n",
      "155/155 [==============================] - 5s 33ms/sample - loss: 0.0182 - acc: 1.0000 - val_loss: 0.0014 - val_acc: 1.0000\n",
      "Epoch 29/30\n",
      "155/155 [==============================] - 5s 33ms/sample - loss: 0.0096 - acc: 1.0000 - val_loss: 0.0017 - val_acc: 1.0000\n",
      "Epoch 30/30\n",
      "155/155 [==============================] - 5s 32ms/sample - loss: 0.0231 - acc: 0.9935 - val_loss: 0.0018 - val_acc: 1.0000\n"
     ]
    },
    {
     "data": {
      "text/plain": [
       "<tensorflow.python.keras.callbacks.History at 0x14320d4a8>"
      ]
     },
     "execution_count": 10,
     "metadata": {},
     "output_type": "execute_result"
    }
   ],
   "source": [
    "model.fit(x=X_train, y=y_train, validation_split=0.1, batch_size=8, epochs=30)"
   ]
  },
  {
   "cell_type": "code",
   "execution_count": 14,
   "metadata": {},
   "outputs": [
    {
     "name": "stdout",
     "output_type": "stream",
     "text": [
      "44/44 [==============================] - 1s 31ms/sample - loss: 0.1104 - acc: 0.9545\n"
     ]
    },
    {
     "data": {
      "text/plain": [
       "[0.11038615647703409, 0.95454544]"
      ]
     },
     "execution_count": 14,
     "metadata": {},
     "output_type": "execute_result"
    }
   ],
   "source": [
    "model.evaluate(x=X_test, y=y_test, batch_size=8)"
   ]
  },
  {
   "cell_type": "code",
   "execution_count": 16,
   "metadata": {},
   "outputs": [
    {
     "data": {
      "text/plain": [
       "array([[0.67124164, 0.3287584 ]], dtype=float32)"
      ]
     },
     "execution_count": 16,
     "metadata": {},
     "output_type": "execute_result"
    }
   ],
   "source": [
    "model.predict(np.expand_dims(extract_face(\"/Users/zetong/Desktop/qi2.jpg\"), axis=0))"
   ]
  },
  {
   "cell_type": "code",
   "execution_count": null,
   "metadata": {},
   "outputs": [],
   "source": []
  }
 ],
 "metadata": {
  "kernelspec": {
   "display_name": "Python 3",
   "language": "python",
   "name": "python3"
  },
  "language_info": {
   "codemirror_mode": {
    "name": "ipython",
    "version": 3
   },
   "file_extension": ".py",
   "mimetype": "text/x-python",
   "name": "python",
   "nbconvert_exporter": "python",
   "pygments_lexer": "ipython3",
   "version": "3.6.8"
  }
 },
 "nbformat": 4,
 "nbformat_minor": 2
}
