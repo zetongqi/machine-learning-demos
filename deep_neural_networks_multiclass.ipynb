{
 "cells": [
  {
   "cell_type": "code",
   "execution_count": 1,
   "metadata": {},
   "outputs": [],
   "source": [
    "import numpy as np\n",
    "import matplotlib.pyplot as plt"
   ]
  },
  {
   "cell_type": "code",
   "execution_count": 2,
   "metadata": {},
   "outputs": [],
   "source": [
    "def sigmoid(z):\n",
    "    a = 1/(1+np.exp(-z))\n",
    "    return a\n",
    "\n",
    "def relu(z):\n",
    "    a = np.maximum(0, z)\n",
    "    return a\n",
    "\n",
    "def leaky_relu(z, aplha=0.01):\n",
    "    a = np.maximum(aplha*z, z)\n",
    "    return a\n",
    "\n",
    "def tanh(z):\n",
    "    a = (np.exp(z) - np.exp(-z)) / (np.exp(z) + np.exp(-z))\n",
    "    return a\n",
    "\n",
    "def softmax(z):\n",
    "    exp_z = np.exp(z)\n",
    "    a = np.divide(exp_z, np.sum(exp_z))\n",
    "    return a\n",
    "\n",
    "def activate(z, activation):\n",
    "    if activation == \"sigmoid\":\n",
    "        return sigmoid(z)\n",
    "    elif activation == \"relu\":\n",
    "        return relu(z)\n",
    "    elif activation == \"leaky_relu\":\n",
    "        return leaky_relu(z)\n",
    "    elif activation == \"tanh\":\n",
    "        return tanh(z)\n",
    "    else:\n",
    "        return softmax(z)"
   ]
  },
  {
   "cell_type": "code",
   "execution_count": 3,
   "metadata": {},
   "outputs": [],
   "source": [
    "class layer:\n",
    "    def __init__(self, shape, activation):\n",
    "        self.W = np.random.randn(*shape)*0.01\n",
    "        self.b = np.zeros((shape[-1], 1))\n",
    "        self.activation = activation\n",
    "        \n",
    "    def forward(self, x):\n",
    "        self.z = np.dot(self.W, x) + self.b\n",
    "        self.a = activate(self.z, self.activation)\n",
    "        return self.a, self.w, self.z, x"
   ]
  },
  {
   "cell_type": "code",
   "execution_count": 34,
   "metadata": {},
   "outputs": [],
   "source": [
    "def backward_propagation_sigmoid(dal, wl, zl, al_1):\n",
    "    m = dal.shape[-1]\n",
    "    al = sigmoid(zl)\n",
    "    dzl = dal * al * (1 - al)\n",
    "    dwl = 1/m*np.dot(dzl, al_1.T)\n",
    "    dbl = 1/m*np.sum(dzl, axis=1, keepdims=True)\n",
    "    dal_1 = np.dot(wl.T, dzl)\n",
    "    return dal_1, dwl, dbl\n",
    "\n",
    "def backward_propagation_relu(dal, wl, zl, al_1):\n",
    "    m = dal.shape[-1]\n",
    "    al = relu(zl)\n",
    "    dal_dzl = zl >= 0\n",
    "    dal_dzl = dal_dzl.astype(\"int\")\n",
    "    dzl = dal*dal_dzl\n",
    "    dwl = 1/m*np.dot(dzl, al_1.T)\n",
    "    dbl = 1/m*np.sum(dzl, axis=1, keepdims=True)\n",
    "    dal_1 = np.dot(wl.T, dzl)\n",
    "    return dal_1, dwl, dbl\n",
    "\n",
    "def backward_propagation_tanh(dal, wl, zl, al_1):\n",
    "    m = dal.shape[-1]\n",
    "    al = tanh(zl)\n",
    "    dzl = dal*(1-al**2)\n",
    "    dwl = 1/m*np.dot(dzl, al_1.T)\n",
    "    dbl = 1/m*np.sum(dzl, axis=1, keepdims=True)\n",
    "    dal_1 = np.dot(wl.T, dzl)\n",
    "    return dal_1, dwl, dbl\n",
    "\n",
    "def backward_propagation(dal, wl, zl, al_1, act):\n",
    "    if act == \"sigmoid\":\n",
    "        return backward_propagation_sigmoid(dal, wl, zl, al_1)\n",
    "    elif act == \"relu\":\n",
    "        return backward_propagation_relu(dal, wl, zl, al_1)\n",
    "    else:\n",
    "        return backward_propagation_tanh(dal, wl, zl, al_1)\n",
    "\n",
    "# c.shape = (1, m), z.shape = (nc, m), zc.shape = (1, m)\n",
    "def select(z, c):\n",
    "    zc = []\n",
    "    for i, j in zip(c[0, :], range(c.shape[-1])):\n",
    "        zc.append(z[i, j])\n",
    "    zc = np.array(zc).reshape(1, len(zc))\n",
    "    return zc\n",
    "\n",
    "def grads_correction(dal_dzl, temp, c):\n",
    "    for idx, i in zip(c[0, :], range(dal_dzl.shape[-1])):\n",
    "        dal_dzl[idx, i] = temp[0, i]\n",
    "    return dal_dzl\n",
    "\n",
    "def backward_propagation_softmax(dal, wl, zl, al_1, c):\n",
    "    m = dal.shape[-1]\n",
    "    zc = select(zl, c) # zc.shape = (1, m)\n",
    "    denominator = np.sum(np.exp(zl))**2\n",
    "    dal_dzl = (np.sum(np.exp(zl)) - np.exp(zc)*np.exp(zl)) / denominator # dal_dzl.shape = (nc, m)\n",
    "    temp = (np.exp(zc)*np.sum(np.exp(zl)) - np.square(np.exp(zc))) / denominator # temp.shape = (1, m)\n",
    "    # dal_dzl needs correction on c indices\n",
    "    dal_dzl = grads_correction(dal_dzl, temp, c)\n",
    "    dzl = dal*dal_dzl\n",
    "    dwl = 1/m*np.dot(dzl, al_1.T)\n",
    "    dbl = 1/m*np.sum(dzl, axis=1, keepdims=True)\n",
    "    dal_1 = np.dot(wl.T, dzl)\n",
    "    return dal_1, dwl, dbl"
   ]
  },
  {
   "cell_type": "code",
   "execution_count": 5,
   "metadata": {},
   "outputs": [],
   "source": [
    "class model:\n",
    "    def __init__(self):\n",
    "        self.layers = []\n",
    "    \n",
    "    def forward_prop(self, x):\n",
    "        cache = {}\n",
    "        al = x\n",
    "        for layer, l in zip(self.layers, range(1, len(self.layers)+1)):\n",
    "            al, wl, zl, al_1 = layer.forward(al)\n",
    "            cache[\"l\"+str(l)] = [wl, zl, al_1]\n",
    "        return al, cache\n",
    "    \n",
    "    def backward_prop(self, y_hat, y, cache):\n",
    "        dal = np.divide(y, y_hat)\n",
    "        c = []\n",
    "        for i in range(y.shape[-1]):\n",
    "            c.append(np.nonzero(y[:, i])[0])\n",
    "        c = np.array(c).T\n",
    "        ## to be continued"
   ]
  },
  {
   "cell_type": "code",
   "execution_count": 6,
   "metadata": {},
   "outputs": [],
   "source": [
    "y_hat = np.array([0,0,0,1,0]).reshape(1, 5)"
   ]
  },
  {
   "cell_type": "code",
   "execution_count": 7,
   "metadata": {},
   "outputs": [
    {
     "data": {
      "text/plain": [
       "array([[ 0.16656736, -0.04305739,  0.72958959, -0.55255352],\n",
       "       [ 0.17038562,  1.7123673 , -0.5390334 ,  0.82161837],\n",
       "       [ 0.19062715,  0.41407506, -0.24065972, -1.1616821 ]])"
      ]
     },
     "execution_count": 7,
     "metadata": {},
     "output_type": "execute_result"
    }
   ],
   "source": [
    "idx = np.array([2,2,1,0])\n",
    "\n",
    "zl = np.random.randn(3, 4)\n",
    "\n",
    "zl"
   ]
  },
  {
   "cell_type": "code",
   "execution_count": 8,
   "metadata": {},
   "outputs": [
    {
     "name": "stdout",
     "output_type": "stream",
     "text": [
      "0 2 0.19062715025940352\n",
      "1 2 0.4140750614492724\n",
      "2 1 -0.5390333957279909\n",
      "3 0 -0.5525535249399043\n"
     ]
    }
   ],
   "source": [
    "for i in range(len(idx)):\n",
    "    print(i, idx[i], zl[idx[i], i])"
   ]
  },
  {
   "cell_type": "code",
   "execution_count": 9,
   "metadata": {},
   "outputs": [
    {
     "data": {
      "text/plain": [
       "array([ 0.19062715,  0.41407506, -0.5390334 , -0.55255352])"
      ]
     },
     "execution_count": 9,
     "metadata": {},
     "output_type": "execute_result"
    }
   ],
   "source": [
    "np.array([zl[idx[i], i] for i in range(len(idx))])"
   ]
  },
  {
   "cell_type": "code",
   "execution_count": 11,
   "metadata": {},
   "outputs": [
    {
     "data": {
      "text/plain": [
       "array([2, 2, 1, 0])"
      ]
     },
     "execution_count": 11,
     "metadata": {},
     "output_type": "execute_result"
    }
   ],
   "source": [
    "idx"
   ]
  },
  {
   "cell_type": "code",
   "execution_count": 12,
   "metadata": {},
   "outputs": [
    {
     "data": {
      "text/plain": [
       "(3, 5)"
      ]
     },
     "execution_count": 12,
     "metadata": {},
     "output_type": "execute_result"
    }
   ],
   "source": [
    "y = np.array([[0,0,1], [0,1,0], [1,0,0], [0,1,0], [1,0,0]]).T\n",
    "y.shape"
   ]
  },
  {
   "cell_type": "code",
   "execution_count": 13,
   "metadata": {},
   "outputs": [
    {
     "data": {
      "text/plain": [
       "array([[0, 0, 1, 0, 1],\n",
       "       [0, 1, 0, 1, 0],\n",
       "       [1, 0, 0, 0, 0]])"
      ]
     },
     "execution_count": 13,
     "metadata": {},
     "output_type": "execute_result"
    }
   ],
   "source": [
    "y"
   ]
  },
  {
   "cell_type": "code",
   "execution_count": 14,
   "metadata": {},
   "outputs": [
    {
     "name": "stdout",
     "output_type": "stream",
     "text": [
      "[[2 1 0 1 0]] (1, 5)\n"
     ]
    }
   ],
   "source": [
    "c = []\n",
    "for i in range(y.shape[-1]):\n",
    "    c.append(np.nonzero(y[:, i])[0])\n",
    "\n",
    "c = np.array(c).T\n",
    "print(c, c.shape)"
   ]
  },
  {
   "cell_type": "code",
   "execution_count": 15,
   "metadata": {},
   "outputs": [
    {
     "data": {
      "text/plain": [
       "array([[ 1.62434536, -0.61175641, -0.52817175, -1.07296862,  0.86540763],\n",
       "       [-2.3015387 ,  1.74481176, -0.7612069 ,  0.3190391 , -0.24937038],\n",
       "       [ 1.46210794, -2.06014071, -0.3224172 , -0.38405435,  1.13376944]])"
      ]
     },
     "execution_count": 15,
     "metadata": {},
     "output_type": "execute_result"
    }
   ],
   "source": [
    "np.random.seed(1)\n",
    "z = np.random.randn(3, 5)\n",
    "z"
   ]
  },
  {
   "cell_type": "code",
   "execution_count": 16,
   "metadata": {},
   "outputs": [
    {
     "data": {
      "text/plain": [
       "array([[ 1.46210794,  1.74481176, -0.52817175,  0.3190391 ,  0.86540763]])"
      ]
     },
     "execution_count": 16,
     "metadata": {},
     "output_type": "execute_result"
    }
   ],
   "source": [
    "zc = []\n",
    "for i, j in zip(c[0, :], range(c.shape[-1])):\n",
    "    zc.append(z[i, j])\n",
    "np.array(zc).reshape(1, len(zc))"
   ]
  },
  {
   "cell_type": "code",
   "execution_count": 17,
   "metadata": {},
   "outputs": [
    {
     "data": {
      "text/plain": [
       "array([[ 1.46210794,  1.74481176, -0.52817175,  0.3190391 ,  0.86540763]])"
      ]
     },
     "execution_count": 17,
     "metadata": {},
     "output_type": "execute_result"
    }
   ],
   "source": [
    "select(z, c)"
   ]
  },
  {
   "cell_type": "code",
   "execution_count": 19,
   "metadata": {},
   "outputs": [
    {
     "data": {
      "text/plain": [
       "(1, 5)"
      ]
     },
     "execution_count": 19,
     "metadata": {},
     "output_type": "execute_result"
    }
   ],
   "source": [
    "c.shape"
   ]
  },
  {
   "cell_type": "code",
   "execution_count": 20,
   "metadata": {},
   "outputs": [
    {
     "data": {
      "text/plain": [
       "array([[2, 1, 0, 1, 0]])"
      ]
     },
     "execution_count": 20,
     "metadata": {},
     "output_type": "execute_result"
    }
   ],
   "source": [
    "c"
   ]
  },
  {
   "cell_type": "code",
   "execution_count": 27,
   "metadata": {},
   "outputs": [
    {
     "name": "stdout",
     "output_type": "stream",
     "text": [
      "[[ 1.62434536 -0.61175641 -0.52817175 -1.07296862  0.86540763]\n",
      " [-2.3015387   1.74481176 -0.7612069   0.3190391  -0.24937038]\n",
      " [ 1.46210794 -2.06014071 -0.3224172  -0.38405435  1.13376944]]\n",
      "\n",
      "[[-1.09989127 -0.17242821 -0.87785842  0.04221375  0.58281521]]\n"
     ]
    }
   ],
   "source": [
    "np.random.seed(1)\n",
    "nc = 3\n",
    "m = 5\n",
    "dal_dzl = np.random.randn(nc, m)\n",
    "temp = np.random.randn(1, m)\n",
    "print(dal_dzl)\n",
    "print()\n",
    "print(temp)"
   ]
  },
  {
   "cell_type": "code",
   "execution_count": 31,
   "metadata": {},
   "outputs": [],
   "source": [
    "for idx, i in zip(c[0, :], range(dal_dzl.shape[-1])):\n",
    "    dal_dzl[idx, i] = temp[0, i]"
   ]
  },
  {
   "cell_type": "code",
   "execution_count": 32,
   "metadata": {},
   "outputs": [
    {
     "data": {
      "text/plain": [
       "array([[ 1.62434536, -0.61175641, -0.87785842, -1.07296862,  0.58281521],\n",
       "       [-2.3015387 , -0.17242821, -0.7612069 ,  0.04221375, -0.24937038],\n",
       "       [-1.09989127, -2.06014071, -0.3224172 , -0.38405435,  1.13376944]])"
      ]
     },
     "execution_count": 32,
     "metadata": {},
     "output_type": "execute_result"
    }
   ],
   "source": [
    "dal_dzl"
   ]
  },
  {
   "cell_type": "code",
   "execution_count": 37,
   "metadata": {},
   "outputs": [
    {
     "data": {
      "text/plain": [
       "(array([[-0.13006214,  0.01142872,  0.02034787,  0.06813306, -0.01185977],\n",
       "        [ 0.22244743, -0.13840802,  0.04234103, -0.02857301,  0.07081474],\n",
       "        [-0.30546   ,  0.15495062,  0.00329373,  0.09027558, -0.09215881],\n",
       "        [-0.12849411,  0.05115873, -0.03924748,  0.01610497, -0.02014042]]),\n",
       " array([[-0.01758276,  0.02680404, -0.01879969,  0.02484141],\n",
       "        [ 0.03143987, -0.05803909,  0.02873865, -0.03631824],\n",
       "        [-0.04633885,  0.0326115 , -0.00667118,  0.03039386]]),\n",
       " array([[-0.00375252],\n",
       "        [-0.02588729],\n",
       "        [ 0.00508998]]))"
      ]
     },
     "execution_count": 37,
     "metadata": {},
     "output_type": "execute_result"
    }
   ],
   "source": [
    "np.random.seed(1)\n",
    "dal = np.random.randn(3, 5)\n",
    "wl = np.random.randn(3, 4)\n",
    "zl = np.random.randn(3, 5)\n",
    "al_1 = np.random.randn(4, 5)\n",
    "backward_propagation_softmax(dal, wl, zl, al_1, c)"
   ]
  },
  {
   "cell_type": "code",
   "execution_count": 36,
   "metadata": {},
   "outputs": [
    {
     "data": {
      "text/plain": [
       "array([[2, 1, 0, 1, 0]])"
      ]
     },
     "execution_count": 36,
     "metadata": {},
     "output_type": "execute_result"
    }
   ],
   "source": [
    "c"
   ]
  },
  {
   "cell_type": "code",
   "execution_count": null,
   "metadata": {},
   "outputs": [],
   "source": []
  }
 ],
 "metadata": {
  "kernelspec": {
   "display_name": "Python 3",
   "language": "python",
   "name": "python3"
  },
  "language_info": {
   "codemirror_mode": {
    "name": "ipython",
    "version": 3
   },
   "file_extension": ".py",
   "mimetype": "text/x-python",
   "name": "python",
   "nbconvert_exporter": "python",
   "pygments_lexer": "ipython3",
   "version": "3.6.8"
  }
 },
 "nbformat": 4,
 "nbformat_minor": 2
}
