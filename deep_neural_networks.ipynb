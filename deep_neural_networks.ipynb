{
 "cells": [
  {
   "cell_type": "code",
   "execution_count": 1,
   "metadata": {},
   "outputs": [],
   "source": [
    "import numpy as np\n",
    "import matplotlib.pyplot as plt"
   ]
  },
  {
   "cell_type": "code",
   "execution_count": 2,
   "metadata": {},
   "outputs": [],
   "source": [
    "def initialize_weights(num_of_neurons):\n",
    "    parameters = {}\n",
    "    for i in range(1, len(num_of_neurons)):\n",
    "        parameters[\"W\" + str(i)] = np.random.randn(num_of_neurons[i], num_of_neurons[i-1])*0.01\n",
    "        parameters[\"b\" + str(i)] = np.zeros((num_of_neurons[i], 1))\n",
    "    return parameters"
   ]
  },
  {
   "cell_type": "code",
   "execution_count": 3,
   "metadata": {},
   "outputs": [],
   "source": [
    "def forward_propagation_step(a, w, b):\n",
    "    assert w.shape[-1] == a.shape[0]\n",
    "    assert w.shape[0] == b.shape[0]\n",
    "    z = np.dot(w, a) + b\n",
    "    return z, w, b, a"
   ]
  },
  {
   "cell_type": "code",
   "execution_count": 4,
   "metadata": {},
   "outputs": [],
   "source": [
    "def sigmoid(z):\n",
    "    a = 1/(1+np.exp(-z))\n",
    "    return a"
   ]
  },
  {
   "cell_type": "code",
   "execution_count": 5,
   "metadata": {},
   "outputs": [],
   "source": [
    "def relu(z):\n",
    "    a = np.maximum(0, z)\n",
    "    return a"
   ]
  },
  {
   "cell_type": "code",
   "execution_count": 6,
   "metadata": {},
   "outputs": [],
   "source": [
    "def tanh(z):\n",
    "    a = (np.exp(z) - np.exp(-z)) / (np.exp(z) + np.exp(-z))\n",
    "    return a"
   ]
  },
  {
   "cell_type": "code",
   "execution_count": 120,
   "metadata": {},
   "outputs": [],
   "source": [
    "# al_1: a[l-1]\n",
    "def backward_propagation_sigmoid(dal, wl, zl, al_1):\n",
    "    al = sigmoid(zl)\n",
    "    dzl = dal*al*(1-al)\n",
    "    dwl = np.dot(dzl, al_1.T)\n",
    "    dbl = dzl\n",
    "    dal_1 = np.dot(wl.T, dzl)\n",
    "    return dal_1, dwl, dbl"
   ]
  },
  {
   "cell_type": "code",
   "execution_count": 186,
   "metadata": {},
   "outputs": [],
   "source": [
    "def backward_propagation_relu(dal, wl, zl, al_1):\n",
    "    al = relu(zl)\n",
    "    dal_dzl = zl >= 0\n",
    "    dal_dzl = dal_dzl.astype(\"int\")\n",
    "    dzl = dal*dal_dzl\n",
    "    dwl = np.dot(dzl, al_1.T)\n",
    "    dbl = dzl\n",
    "    dal_1 = np.dot(wl.T, dzl)\n",
    "    return dal_1, dwl, dbl"
   ]
  },
  {
   "cell_type": "code",
   "execution_count": 139,
   "metadata": {},
   "outputs": [],
   "source": [
    "def backward_propagation_tanh(dal, wl, zl, al_1):\n",
    "    al = tanh(zl)\n",
    "    dzl = dal*(1-al**2)\n",
    "    dwl = np.dot(dzl, al_1.T)\n",
    "    dbl = dzl\n",
    "    dal_1 = np.dot(wl.T, dzl)\n",
    "    return dal_1, dwl, dbl"
   ]
  },
  {
   "cell_type": "code",
   "execution_count": 140,
   "metadata": {},
   "outputs": [],
   "source": [
    "def backward_propagation(dal, wl, zl, al_1, act):\n",
    "    if act == \"sigmoid\":\n",
    "        return backward_propagation_sigmoid(dal, wl, zl, al_1)\n",
    "    elif act == \"relu\":\n",
    "        return backward_propagation_relu(dal, wl, zl, al_1)\n",
    "    else:\n",
    "        return backward_propagation_tanh(dal, wl, zl, al_1)"
   ]
  },
  {
   "cell_type": "code",
   "execution_count": 137,
   "metadata": {},
   "outputs": [],
   "source": [
    "def activation(z, act):\n",
    "    if act == \"sigmoid\":\n",
    "        return sigmoid(z)\n",
    "    elif act == \"relu\":\n",
    "        return relu(z)\n",
    "    else:\n",
    "        return tanh(z)"
   ]
  },
  {
   "cell_type": "code",
   "execution_count": 198,
   "metadata": {},
   "outputs": [],
   "source": [
    "def forward_progapate(parameters, X, num_of_layers):\n",
    "    al = X\n",
    "    cache = {}\n",
    "    for l in range(1, num_of_layers):\n",
    "        zl, wl, bl, al_1 = forward_propagation_step(al, parameters[\"W\" + str(l)], parameters[\"b\" + str(l)])\n",
    "        al = activation(zl, \"relu\")\n",
    "        cache[\"l\" + str(l)] = [wl, zl, al_1]\n",
    "    zl, wl, bl, al_1 = forward_propagation_step(al, parameters[\"W\" + str(num_of_layers)], parameters[\"b\" + str(num_of_layers)])\n",
    "    al = activation(zl, \"sigmoid\")\n",
    "    cache[\"l\" + str(num_of_layers)] = [wl, zl, al_1]\n",
    "    return al, cache"
   ]
  },
  {
   "cell_type": "code",
   "execution_count": 153,
   "metadata": {},
   "outputs": [],
   "source": [
    "def cost(y_hat, y):\n",
    "    m = y.shape[-1]\n",
    "    J = -1/m*np.sum(y*np.log(y_hat) + (1-y)*np.log(1-y_hat))\n",
    "    return J"
   ]
  },
  {
   "cell_type": "code",
   "execution_count": 197,
   "metadata": {},
   "outputs": [],
   "source": [
    "def back_propagate(dal, cache, num_of_layers, m):\n",
    "    grads = {}\n",
    "    wl, zl, al_1 = cache[\"l\" + str(num_of_layers)]\n",
    "    dal, dwl, dbl = backward_propagation(dal, wl, zl, al_1, \"sigmoid\")\n",
    "    grads[\"dW\" + str(num_of_layers)] = dwl\n",
    "    grads[\"db\" + str(num_of_layers)] = dbl\n",
    "    for l in reversed(range(1, num_of_layers)):\n",
    "        wl, al, al_1 = cache[\"l\" + str(l)]\n",
    "        dal, dwl, dbl = backward_propagation(dal, wl, zl, al_1, \"relu\")\n",
    "        grads[\"dW\" + str(l)] = dwl\n",
    "        grads[\"db\" + str(l)] = dbl\n",
    "    return grads"
   ]
  },
  {
   "cell_type": "code",
   "execution_count": 142,
   "metadata": {},
   "outputs": [],
   "source": [
    "def load_planar_dataset():\n",
    "    np.random.seed(1)\n",
    "    m = 400 # number of examples\n",
    "    N = int(m/2) # number of points per class\n",
    "    D = 2 # dimensionality\n",
    "    X = np.zeros((m,D)) # data matrix where each row is a single example\n",
    "    Y = np.zeros((m,1), dtype='uint8') # labels vector (0 for red, 1 for blue)\n",
    "    a = 4 # maximum ray of the flower\n",
    "    for j in range(2):\n",
    "        ix = range(N*j,N*(j+1))\n",
    "        t = np.linspace(j*3.12,(j+1)*3.12,N) + np.random.randn(N)*0.2 # theta\n",
    "        r = a*np.sin(4*t) + np.random.randn(N)*0.2 # radius\n",
    "        X[ix] = np.c_[r*np.sin(t), r*np.cos(t)]\n",
    "        Y[ix] = j\n",
    "    X = X.T\n",
    "    Y = Y.T\n",
    "    return X, Y"
   ]
  },
  {
   "cell_type": "code",
   "execution_count": 143,
   "metadata": {},
   "outputs": [],
   "source": [
    "X, Y = load_planar_dataset()"
   ]
  },
  {
   "cell_type": "code",
   "execution_count": 144,
   "metadata": {},
   "outputs": [
    {
     "data": {
      "image/png": "[encoded data removed]",
      "text/plain": [
       "<Figure size 432x288 with 1 Axes>"
      ]
     },
     "metadata": {
      "needs_background": "light"
     },
     "output_type": "display_data"
    }
   ],
   "source": [
    "plt.scatter(X[0, :], X[1, :],c=Y.reshape(Y.shape[-1]), s=40, cmap=plt.cm.Spectral);"
   ]
  },
  {
   "cell_type": "code",
   "execution_count": 145,
   "metadata": {},
   "outputs": [],
   "source": [
    "def update(parameters, grads, num_of_layers, learning_rate):\n",
    "    for l in range(1, num_of_layers+1):\n",
    "        parameters[\"W\" + str(l)] = parameters[\"W\" + str(l)] - learning_rate * grads[\"dW\" + str(l)]\n",
    "        parameters[\"b\" + str(l)] = parameters[\"b\" + str(l)] - learning_rate * grads[\"db\" + str(l)]\n",
    "    return parameters"
   ]
  },
  {
   "cell_type": "code",
   "execution_count": 239,
   "metadata": {},
   "outputs": [],
   "source": [
    "def train(X, Y, iters=10000, learning_rate = 0.01):\n",
    "    losses = []\n",
    "    dims = [2, 4, 1]\n",
    "    num_of_layers = len(dims)-1\n",
    "    parameters = initialize_weights(dims)\n",
    "    for i in range(iters):\n",
    "        A, cache = forward_progapate(parameters, X, num_of_layers)\n",
    "        J = cost(A, Y)\n",
    "        if i % 1000 == 0:\n",
    "            print(J)\n",
    "        losses.append(J)\n",
    "        dzl = A - Y\n",
    "        grads = back_propagate(dzl, cache, num_of_layers, 400)\n",
    "        parameters = update(parameters, grads, num_of_layers, learning_rate)\n",
    "    return parameters, losses"
   ]
  },
  {
   "cell_type": "code",
   "execution_count": 240,
   "metadata": {},
   "outputs": [
    {
     "name": "stdout",
     "output_type": "stream",
     "text": [
      "0.6930939456832732\n",
      "0.1465255013541906\n",
      "0.08697596732597297\n",
      "0.06578664373758339\n",
      "0.054423989888698045\n",
      "0.04717949455885705\n",
      "0.042086317293742306\n",
      "0.03827259009696135\n",
      "0.035288275520414095\n",
      "0.03287580004171362\n"
     ]
    }
   ],
   "source": [
    "parameters, losses = train(X, Y)"
   ]
  },
  {
   "cell_type": "code",
   "execution_count": 242,
   "metadata": {},
   "outputs": [
    {
     "data": {
      "text/plain": [
       "[Text(0, 0.5, 'loss'), Text(0.5, 0, 'iteration')]"
      ]
     },
     "execution_count": 242,
     "metadata": {},
     "output_type": "execute_result"
    },
    {
     "data": {
      "image/png": "[encoded data removed]",
      "text/plain": [
       "<Figure size 432x288 with 1 Axes>"
      ]
     },
     "metadata": {
      "needs_background": "light"
     },
     "output_type": "display_data"
    }
   ],
   "source": [
    "fig, ax = plt.subplots()\n",
    "ax.plot(range(10000), losses)\n",
    "ax.set(xlabel='iteration', ylabel='loss')"
   ]
  },
  {
   "cell_type": "code",
   "execution_count": 243,
   "metadata": {},
   "outputs": [],
   "source": [
    "def predict(parameters, X):\n",
    "    num_of_layers = int(len(parameters.keys()) / 2)\n",
    "    y_hat, cache = forward_progapate(parameters, X, num_of_layers)\n",
    "    y_hat = y_hat >= 0.5\n",
    "    y_hat = y_hat.astype(\"int\")\n",
    "    return y_hat"
   ]
  },
  {
   "cell_type": "code",
   "execution_count": 244,
   "metadata": {},
   "outputs": [],
   "source": [
    "y_hat = predict(parameters, X)"
   ]
  },
  {
   "cell_type": "code",
   "execution_count": 245,
   "metadata": {},
   "outputs": [],
   "source": [
    "acc = y_hat == Y\n",
    "acc = acc.astype(\"int\")\n",
    "acc = np.sum(acc) / acc.shape[-1]"
   ]
  },
  {
   "cell_type": "code",
   "execution_count": 246,
   "metadata": {},
   "outputs": [
    {
     "data": {
      "text/plain": [
       "1.0"
      ]
     },
     "execution_count": 246,
     "metadata": {},
     "output_type": "execute_result"
    }
   ],
   "source": [
    "acc"
   ]
  },
  {
   "cell_type": "code",
   "execution_count": null,
   "metadata": {},
   "outputs": [],
   "source": []
  }
 ],
 "metadata": {
  "kernelspec": {
   "display_name": "Python 3",
   "language": "python",
   "name": "python3"
  },
  "language_info": {
   "codemirror_mode": {
    "name": "ipython",
    "version": 3
   },
   "file_extension": ".py",
   "mimetype": "text/x-python",
   "name": "python",
   "nbconvert_exporter": "python",
   "pygments_lexer": "ipython3",
   "version": "3.6.8"
  }
 },
 "nbformat": 4,
 "nbformat_minor": 2
}
