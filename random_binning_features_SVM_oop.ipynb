{
 "cells": [
  {
   "cell_type": "code",
   "execution_count": 1,
   "metadata": {},
   "outputs": [],
   "source": [
    "from sklearn.datasets import make_circles, make_moons\n",
    "from mpl_toolkits.mplot3d import Axes3D\n",
    "import numpy as np\n",
    "import matplotlib.pyplot as plt\n",
    "import matplotlib\n",
    "from sklearn.model_selection import train_test_split\n",
    "from cvxopt import matrix\n",
    "from cvxopt import solvers\n",
    "from numpy import linalg as LA"
   ]
  },
  {
   "cell_type": "markdown",
   "metadata": {},
   "source": [
    "## MCMC sampling method"
   ]
  },
  {
   "cell_type": "code",
   "execution_count": 2,
   "metadata": {},
   "outputs": [],
   "source": [
    "def metropolis_hastings(p, dim, iter=1000):\n",
    "    x = np.zeros(dim)\n",
    "    samples = np.zeros((iter, dim))\n",
    "\n",
    "    for i in range(iter):\n",
    "        x_next = x + np.random.multivariate_normal(np.zeros(dim), np.eye(dim))\n",
    "        if np.random.rand() < p(x_next) / p(x):\n",
    "            x = x_next\n",
    "        samples[i] = x\n",
    "\n",
    "    return samples"
   ]
  },
  {
   "cell_type": "markdown",
   "metadata": {},
   "source": [
    "## Laplacian kernel delta density function (Gamma distribution)"
   ]
  },
  {
   "cell_type": "code",
   "execution_count": 3,
   "metadata": {},
   "outputs": [],
   "source": [
    "def p(delta):\n",
    "    if delta < 0.:\n",
    "        return 0.\n",
    "    else:\n",
    "        return delta * np.exp(-delta)"
   ]
  },
  {
   "cell_type": "markdown",
   "metadata": {},
   "source": [
    "## One_hot vector generation function"
   ]
  },
  {
   "cell_type": "code",
   "execution_count": 4,
   "metadata": {},
   "outputs": [],
   "source": [
    "def one_hot(dim, pos):\n",
    "    vec = np.zeros(int(dim))\n",
    "    vec[int(pos)] = 1.\n",
    "    return vec"
   ]
  },
  {
   "cell_type": "markdown",
   "metadata": {},
   "source": [
    "## Function to computer the dot product between the one-hot grids"
   ]
  },
  {
   "cell_type": "code",
   "execution_count": 5,
   "metadata": {},
   "outputs": [],
   "source": [
    "def dot_product(x1, x2):\n",
    "    s = 0\n",
    "    for i in range(len(x1)):\n",
    "        for j in range(x1[i].shape[0]):\n",
    "            s += np.dot(x1[i][j], x2[i][j])\n",
    "    return s"
   ]
  },
  {
   "cell_type": "markdown",
   "metadata": {},
   "source": [
    "## Random binning features SVM class"
   ]
  },
  {
   "cell_type": "code",
   "execution_count": 6,
   "metadata": {},
   "outputs": [],
   "source": [
    "class random_binning_features_svm:\n",
    "    def __init__(self, P=30):\n",
    "        self.P = P\n",
    "        \n",
    "    def _draw_grid_params(self, P, d, spans, max_iter=1000):\n",
    "        deltas = np.zeros((P, d))\n",
    "        us = np.zeros((P, d))\n",
    "        num_of_bins_collect = []\n",
    "\n",
    "        # draw grid parameters\n",
    "        for i in range(P):\n",
    "            s = metropolis_hastings(p, 1, iter=max_iter)\n",
    "            delta = s[np.random.randint(low=20, high=max_iter, size=d)]\n",
    "            u =  np.random.uniform(low=0, high=delta)\n",
    "            delta = delta.reshape(delta.shape[0])\n",
    "            u = u.reshape(u.shape[0])\n",
    "            deltas[i, :] = delta\n",
    "            us[i, :] = u\n",
    "            num_of_bins = (np.ceil((spans) / delta)).astype(\"int\") + 1\n",
    "            num_of_bins_collect.append(num_of_bins)\n",
    "        \n",
    "        self.num_of_bins_collect = num_of_bins_collect\n",
    "        self.deltas = deltas\n",
    "        self.us = us\n",
    "    \n",
    "    def _feature_mapping(self, X, num_of_bins_collect, deltas, us):\n",
    "        X_feature_map = []\n",
    "        lower = np.min(X, axis=0)\n",
    "\n",
    "        for i in range(X.shape[0]):\n",
    "            x = X[i]\n",
    "            X_map = []\n",
    "\n",
    "            for j in range(self.P):\n",
    "                bin_idx = (np.ceil((x - lower - us[j, :]) / deltas[j, :])).astype(\"int\")\n",
    "                X_map.append(np.array([np.sqrt(1/self.P) * one_hot(dim, pos) for dim, pos in zip(num_of_bins_collect[j], bin_idx)]))\n",
    "            X_feature_map.append(X_map)\n",
    "            \n",
    "        return X_feature_map\n",
    "    \n",
    "    def fit(self, X_train, y_train, C=10):\n",
    "        spans = np.zeros(X_train.shape[-1])\n",
    "        for i in range(X_train.shape[-1]):\n",
    "            spans[i] = np.max(X_train[:, i]) - np.min(X_train[:, i])\n",
    "            \n",
    "        print(\"feature mapping the training data\")\n",
    "        d = X_train.shape[-1]\n",
    "        self._draw_grid_params(self.P, d, spans)\n",
    "        X_train_map = self._feature_mapping(X_train, self.num_of_bins_collect, self.deltas, self.us)\n",
    "        print(\"computing gram matrix\")\n",
    "        taille = len(X_train_map)\n",
    "        K = np.zeros((taille, taille))\n",
    "        for i in range(taille):\n",
    "            for j in range(taille):\n",
    "                K[i, j] = dot_product(X_train_map[i], X_train_map[j])\n",
    "        m = K.shape[0]\n",
    "        y_train = y_train.reshape(-1,1) * 1.\n",
    "        H = np.outer(y_train, y_train) * K\n",
    "        H.shape\n",
    "\n",
    "        P = matrix(H)\n",
    "        q = matrix(-np.ones(m))\n",
    "        G = matrix(np.vstack((np.eye(m)*-1,np.eye(m))))\n",
    "        h = matrix(np.hstack((np.zeros(m), np.ones(m) * C)))\n",
    "        A = matrix(y_train, (1, m))\n",
    "        b = matrix(0.)\n",
    "\n",
    "        #Run solver\n",
    "        sol = solvers.qp(P, q, G, h, A, b)\n",
    "        alphas = np.array(sol['x'])\n",
    "\n",
    "        alphas = alphas.reshape(alphas.shape[0])\n",
    "\n",
    "        sup_vec_idx = np.argwhere(np.logical_or(alphas > 1e-4, alphas < -1e-4))\n",
    "        sup_vec_idx = sup_vec_idx.reshape(sup_vec_idx.shape[0])\n",
    "        \n",
    "        print(\"calculating weight and bias\")\n",
    "        weights = []\n",
    "        for i in range(self.P):\n",
    "            temp = []\n",
    "            for j in range(len(X_train_map[0][i])):\n",
    "                temp.append(np.zeros(X_train_map[0][i][j].shape))\n",
    "            weights.append(np.array(temp))\n",
    "\n",
    "        for idx in sup_vec_idx:\n",
    "            for j in range(self.P):\n",
    "                weights[j] += X_train_map[idx][j] * y_train[idx] * alphas[idx]\n",
    "        \n",
    "        y_train = y_train.reshape(y_train.shape[0])\n",
    "        minus_idx = (np.argwhere(y_train == -1)).squeeze()\n",
    "        max_val = -np.inf\n",
    "        for i in minus_idx:\n",
    "            val = dot_product(X_train_map[i], weights)\n",
    "            if val > max_val:\n",
    "                max_val = val\n",
    "\n",
    "        plus_idx = (np.argwhere(y_train == 1)).squeeze()\n",
    "        min_val = np.inf\n",
    "        for i in plus_idx:\n",
    "            val = dot_product(X_train_map[i], weights)\n",
    "            if val < min_val:\n",
    "                min_val = val\n",
    "\n",
    "        bias = - (max_val + min_val) / 2\n",
    "        \n",
    "        self.weights = weights\n",
    "        self.bias = bias\n",
    "        \n",
    "    def predict(self, X_test):\n",
    "        print(\"feature mapping the test data\")\n",
    "        X_test_map = self._feature_mapping(X_test, self.num_of_bins_collect, self.deltas, self.us)\n",
    "        pred = []\n",
    "        for x in X_test_map:\n",
    "            pred.append(np.sign(dot_product(x, self.weights) + self.bias))\n",
    "        pred = np.array(pred)\n",
    "        return pred"
   ]
  },
  {
   "cell_type": "markdown",
   "metadata": {},
   "source": [
    "## load nonlinear dataset"
   ]
  },
  {
   "cell_type": "code",
   "execution_count": 7,
   "metadata": {},
   "outputs": [
    {
     "data": {
      "image/png": "[encoded data removed]",
      "text/plain": [
       "<Figure size 432x288 with 1 Axes>"
      ]
     },
     "metadata": {
      "needs_background": "light"
     },
     "output_type": "display_data"
    }
   ],
   "source": [
    "X, y = make_moons(n_samples=2000, noise=0.2)\n",
    "colors = ['red','blue']\n",
    "plt.scatter(X[:, 0], X[:, 1], c=y, cmap=matplotlib.colors.ListedColormap(colors), s=2)\n",
    "y[y == 0] = -1\n",
    "seed = 1\n",
    "X_train, X_test, y_train, y_test = train_test_split(X, y, test_size=0.2, random_state=seed)"
   ]
  },
  {
   "cell_type": "code",
   "execution_count": 8,
   "metadata": {},
   "outputs": [
    {
     "name": "stdout",
     "output_type": "stream",
     "text": [
      "feature mapping the training data\n"
     ]
    },
    {
     "name": "stderr",
     "output_type": "stream",
     "text": [
      "/Library/Frameworks/Python.framework/Versions/3.6/lib/python3.6/site-packages/ipykernel_launcher.py:7: RuntimeWarning: invalid value encountered in true_divide\n",
      "  import sys\n",
      "/Library/Frameworks/Python.framework/Versions/3.6/lib/python3.6/site-packages/ipykernel_launcher.py:7: RuntimeWarning: divide by zero encountered in true_divide\n",
      "  import sys\n"
     ]
    },
    {
     "name": "stdout",
     "output_type": "stream",
     "text": [
      "computing gram matrix\n",
      "     pcost       dcost       gap    pres   dres\n",
      " 0: -1.5584e+03 -1.2218e+05  3e+05  9e-01  6e-14\n",
      " 1: -1.2414e+02 -3.8416e+04  6e+04  1e-01  6e-14\n",
      " 2:  7.5372e+01 -1.1008e+04  1e+04  2e-02  6e-14\n",
      " 3: -3.5766e+02 -3.9874e+03  4e+03  5e-03  5e-14\n",
      " 4: -7.0464e+02 -2.1089e+03  1e+03  1e-03  6e-14\n",
      " 5: -8.7364e+02 -1.4623e+03  6e+02  3e-04  6e-14\n",
      " 6: -9.3444e+02 -1.2922e+03  4e+02  1e-04  7e-14\n",
      " 7: -1.0041e+03 -1.1007e+03  1e+02  1e-05  7e-14\n",
      " 8: -1.0196e+03 -1.0698e+03  5e+01  4e-06  7e-14\n",
      " 9: -1.0315e+03 -1.0475e+03  2e+01  7e-07  7e-14\n",
      "10: -1.0345e+03 -1.0422e+03  8e+00  3e-13  8e-14\n",
      "11: -1.0370e+03 -1.0388e+03  2e+00  6e-14  7e-14\n",
      "12: -1.0377e+03 -1.0378e+03  1e-01  3e-14  8e-14\n",
      "13: -1.0377e+03 -1.0377e+03  1e-03  2e-13  8e-14\n",
      "Optimal solution found.\n",
      "calculating weight and bias\n"
     ]
    }
   ],
   "source": [
    "clf = random_binning_features_svm()\n",
    "clf.fit(X_train, y_train)"
   ]
  },
  {
   "cell_type": "markdown",
   "metadata": {},
   "source": [
    "## Test set accuracy"
   ]
  },
  {
   "cell_type": "code",
   "execution_count": 9,
   "metadata": {},
   "outputs": [
    {
     "name": "stdout",
     "output_type": "stream",
     "text": [
      "feature mapping the test data\n"
     ]
    },
    {
     "data": {
      "text/plain": [
       "0.9675"
      ]
     },
     "execution_count": 9,
     "metadata": {},
     "output_type": "execute_result"
    }
   ],
   "source": [
    "pred = clf.predict(X_test)\n",
    "np.sum((pred == y_test).astype(\"int\")) / y_test.shape[0]"
   ]
  },
  {
   "cell_type": "code",
   "execution_count": null,
   "metadata": {},
   "outputs": [],
   "source": []
  }
 ],
 "metadata": {
  "kernelspec": {
   "display_name": "Python 3",
   "language": "python",
   "name": "python3"
  },
  "language_info": {
   "codemirror_mode": {
    "name": "ipython",
    "version": 3
   },
   "file_extension": ".py",
   "mimetype": "text/x-python",
   "name": "python",
   "nbconvert_exporter": "python",
   "pygments_lexer": "ipython3",
   "version": "3.6.8"
  }
 },
 "nbformat": 4,
 "nbformat_minor": 2
}
