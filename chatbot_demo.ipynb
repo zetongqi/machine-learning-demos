{
 "cells": [
  {
   "cell_type": "markdown",
   "metadata": {},
   "source": [
    "# HAL-9000 intent classification demo"
   ]
  },
  {
   "cell_type": "code",
   "execution_count": 1,
   "metadata": {},
   "outputs": [],
   "source": [
    "import pandas as pd\n",
    "from sklearn import preprocessing\n",
    "import numpy as np\n",
    "import tensorflow as tf\n",
    "from nltk.tokenize import word_tokenize\n",
    "import nltk\n",
    "from pymagnitude import *\n",
    "from nltk.stem.lancaster import LancasterStemmer"
   ]
  },
  {
   "cell_type": "markdown",
   "metadata": {},
   "source": [
    "## load intents dataset"
   ]
  },
  {
   "cell_type": "code",
   "execution_count": 2,
   "metadata": {},
   "outputs": [],
   "source": [
    "X = []\n",
    "y = []\n",
    "with open(\"/Users/zetong/intents.csv\", mode = 'r', encoding = 'ascii', errors = 'ignore') as csvfile:\n",
    "    intents = pd.read_csv(csvfile)\n",
    "    X = list(intents[\"utterances\"])\n",
    "    y = list(intents[\"labels\"])\n",
    "from sklearn import preprocessing\n",
    "le = preprocessing.LabelEncoder()\n",
    "le.fit(y)\n",
    "y = le.transform(y)\n",
    "X = np.asarray(X)"
   ]
  },
  {
   "cell_type": "code",
   "execution_count": 3,
   "metadata": {},
   "outputs": [
    {
     "data": {
      "text/plain": [
       "(21,)"
      ]
     },
     "execution_count": 3,
     "metadata": {},
     "output_type": "execute_result"
    }
   ],
   "source": [
    "le.classes_.shape"
   ]
  },
  {
   "cell_type": "code",
   "execution_count": 4,
   "metadata": {},
   "outputs": [],
   "source": [
    "from sklearn.model_selection import train_test_split\n",
    "X_train, X_test, y_train, y_test = train_test_split(X, y, test_size=0.2, random_state=42)\n",
    "X_train, X_val, y_train, y_val = train_test_split(X_train, y_train, test_size=0.1, random_state=42)"
   ]
  },
  {
   "cell_type": "code",
   "execution_count": 5,
   "metadata": {},
   "outputs": [],
   "source": [
    "vectors = Magnitude(\"/Users/zetong/Downloads/glove.840B.300d.magnitude\")"
   ]
  },
  {
   "cell_type": "code",
   "execution_count": 6,
   "metadata": {},
   "outputs": [
    {
     "name": "stderr",
     "output_type": "stream",
     "text": [
      "WARNING: Logging before flag parsing goes to stderr.\n",
      "W0909 17:58:41.645711 4582110656 deprecation.py:506] From /Library/Frameworks/Python.framework/Versions/3.6/lib/python3.6/site-packages/tensorflow/python/ops/init_ops.py:1251: calling VarianceScaling.__init__ (from tensorflow.python.ops.init_ops) with dtype is deprecated and will be removed in a future version.\n",
      "Instructions for updating:\n",
      "Call initializer instance with the dtype argument instead of passing it to the constructor\n",
      "W0909 17:58:41.651076 4582110656 deprecation.py:506] From /Library/Frameworks/Python.framework/Versions/3.6/lib/python3.6/site-packages/tensorflow/python/ops/init_ops.py:97: calling GlorotUniform.__init__ (from tensorflow.python.ops.init_ops) with dtype is deprecated and will be removed in a future version.\n",
      "Instructions for updating:\n",
      "Call initializer instance with the dtype argument instead of passing it to the constructor\n",
      "W0909 17:58:41.652842 4582110656 deprecation.py:506] From /Library/Frameworks/Python.framework/Versions/3.6/lib/python3.6/site-packages/tensorflow/python/ops/init_ops.py:97: calling Orthogonal.__init__ (from tensorflow.python.ops.init_ops) with dtype is deprecated and will be removed in a future version.\n",
      "Instructions for updating:\n",
      "Call initializer instance with the dtype argument instead of passing it to the constructor\n",
      "W0909 17:58:41.653748 4582110656 deprecation.py:506] From /Library/Frameworks/Python.framework/Versions/3.6/lib/python3.6/site-packages/tensorflow/python/ops/init_ops.py:97: calling Zeros.__init__ (from tensorflow.python.ops.init_ops) with dtype is deprecated and will be removed in a future version.\n",
      "Instructions for updating:\n",
      "Call initializer instance with the dtype argument instead of passing it to the constructor\n"
     ]
    },
    {
     "name": "stdout",
     "output_type": "stream",
     "text": [
      "Model: \"model\"\n",
      "_________________________________________________________________\n",
      "Layer (type)                 Output Shape              Param #   \n",
      "=================================================================\n",
      "input_1 (InputLayer)         [(None, 28, 300)]         0         \n",
      "_________________________________________________________________\n",
      "bidirectional (Bidirectional (None, 64)                85248     \n",
      "_________________________________________________________________\n",
      "dense (Dense)                (None, 16)                1040      \n",
      "_________________________________________________________________\n",
      "dropout (Dropout)            (None, 16)                0         \n",
      "_________________________________________________________________\n",
      "dense_1 (Dense)              (None, 21)                357       \n",
      "=================================================================\n",
      "Total params: 86,645\n",
      "Trainable params: 86,645\n",
      "Non-trainable params: 0\n",
      "_________________________________________________________________\n"
     ]
    }
   ],
   "source": [
    "MAX_SEQ_LEN = 28\n",
    "i = tf.keras.layers.Input(shape=(MAX_SEQ_LEN, vectors.dim))\n",
    "Bidir_LSTM = tf.keras.layers.Bidirectional(tf.keras.layers.LSTM(32))(i)\n",
    "hidden = tf.keras.layers.Dense(16)(Bidir_LSTM)\n",
    "dropout = tf.keras.layers.Dropout(0.3)(hidden)\n",
    "output = tf.keras.layers.Dense(le.classes_.shape[0], activation=\"softmax\")(dropout)\n",
    "model = tf.keras.Model(inputs=i, outputs=output)\n",
    "model.compile(loss=\"sparse_categorical_crossentropy\", optimizer=\"adam\", metrics=[\"acc\"])\n",
    "model.summary()"
   ]
  },
  {
   "cell_type": "code",
   "execution_count": 7,
   "metadata": {},
   "outputs": [],
   "source": [
    "def make_dataset(xarr, yarr):\n",
    "    dataset = tf.data.Dataset.from_tensor_slices((xarr, yarr)).repeat()\n",
    "    \n",
    "    def _process_string(x):\n",
    "\n",
    "        # x is numpy array\n",
    "        def _pad_zeros(x, MAX_SEQ_LEN):\n",
    "            if x.shape[0] >= MAX_SEQ_LEN:\n",
    "                return x[0:MAX_SEQ_LEN, :]\n",
    "            else:\n",
    "                return np.concatenate(\n",
    "                    (x, np.zeros((MAX_SEQ_LEN - x.shape[0], x.shape[1]))), axis=0\n",
    "                )\n",
    "        stemmer = LancasterStemmer()\n",
    "        x = x.numpy().decode()\n",
    "        x = word_tokenize(x)\n",
    "        x = [stemmer.stem(i) for i in x]\n",
    "        if len(x) != 0:\n",
    "            x = vectors.query(x)\n",
    "            x = _pad_zeros(x, MAX_SEQ_LEN)\n",
    "        else:\n",
    "            x = np.zeros((MAX_SEQ_LEN, vectors.dim))\n",
    "        return x\n",
    "    \n",
    "    def _process_datapair(X, y):\n",
    "        X = tf.py_function(_process_string, [X], tf.float32)\n",
    "        X.set_shape([MAX_SEQ_LEN, vectors.dim])\n",
    "        y.set_shape([])\n",
    "        return X, y\n",
    "    \n",
    "    dataset = dataset.map(_process_datapair)\n",
    "    return dataset.shuffle(buffer_size=1000).batch(batch_size).prefetch(batch_size)"
   ]
  },
  {
   "cell_type": "code",
   "execution_count": 8,
   "metadata": {},
   "outputs": [],
   "source": [
    "batch_size = 32\n",
    "train = make_dataset(X_train, y_train)\n",
    "val = make_dataset(X_val, y_val)\n",
    "test = make_dataset(X_test, y_test)"
   ]
  },
  {
   "cell_type": "code",
   "execution_count": 9,
   "metadata": {},
   "outputs": [
    {
     "name": "stderr",
     "output_type": "stream",
     "text": [
      "W0909 17:58:45.767891 4582110656 deprecation.py:323] From /Library/Frameworks/Python.framework/Versions/3.6/lib/python3.6/site-packages/tensorflow/python/ops/math_grad.py:1250: add_dispatch_support.<locals>.wrapper (from tensorflow.python.ops.array_ops) is deprecated and will be removed in a future version.\n",
      "Instructions for updating:\n",
      "Use tf.where in 2.0, which has the same broadcast rule as np.where\n"
     ]
    },
    {
     "name": "stdout",
     "output_type": "stream",
     "text": [
      "Epoch 1/10\n"
     ]
    },
    {
     "name": "stderr",
     "output_type": "stream",
     "text": [
      "W0909 17:58:47.778912 123145553641472 backprop.py:820] The dtype of the watched tensor must be floating (e.g. tf.float32), got tf.string\n",
      "W0909 17:58:47.796681 123145546665984 backprop.py:820] The dtype of the watched tensor must be floating (e.g. tf.float32), got tf.string\n",
      "W0909 17:58:47.810189 123145546665984 backprop.py:820] The dtype of the watched tensor must be floating (e.g. tf.float32), got tf.string\n",
      "W0909 17:58:47.817901 123145553641472 backprop.py:820] The dtype of the watched tensor must be floating (e.g. tf.float32), got tf.string\n",
      "W0909 17:58:47.824609 123145546665984 backprop.py:820] The dtype of the watched tensor must be floating (e.g. tf.float32), got tf.string\n"
     ]
    },
    {
     "name": "stdout",
     "output_type": "stream",
     "text": [
      "200/200 [==============================] - 14s 70ms/step - loss: 2.2232 - acc: 0.3356 - val_loss: 1.6622 - val_acc: 0.4896\n",
      "Epoch 2/10\n",
      "200/200 [==============================] - 9s 43ms/step - loss: 0.9328 - acc: 0.7414 - val_loss: 0.8374 - val_acc: 0.7812\n",
      "Epoch 3/10\n",
      "200/200 [==============================] - 8s 40ms/step - loss: 0.5064 - acc: 0.8578 - val_loss: 0.9810 - val_acc: 0.7396\n",
      "Epoch 4/10\n",
      "200/200 [==============================] - 8s 41ms/step - loss: 0.3294 - acc: 0.9069 - val_loss: 0.7133 - val_acc: 0.8438\n",
      "Epoch 5/10\n",
      "200/200 [==============================] - 8s 41ms/step - loss: 0.2324 - acc: 0.9344 - val_loss: 1.0254 - val_acc: 0.8021\n",
      "Epoch 6/10\n",
      "200/200 [==============================] - 8s 41ms/step - loss: 0.1862 - acc: 0.9483 - val_loss: 0.9728 - val_acc: 0.7917\n",
      "Epoch 7/10\n",
      "200/200 [==============================] - 8s 41ms/step - loss: 0.1557 - acc: 0.9584 - val_loss: 0.8001 - val_acc: 0.8229\n",
      "Epoch 8/10\n",
      "200/200 [==============================] - 9s 45ms/step - loss: 0.1105 - acc: 0.9692 - val_loss: 0.7937 - val_acc: 0.8750\n",
      "Epoch 9/10\n",
      "200/200 [==============================] - 8s 42ms/step - loss: 0.0892 - acc: 0.9772 - val_loss: 0.8715 - val_acc: 0.8646\n",
      "Epoch 10/10\n",
      "200/200 [==============================] - 8s 42ms/step - loss: 0.0750 - acc: 0.9819 - val_loss: 1.2668 - val_acc: 0.8229\n"
     ]
    },
    {
     "data": {
      "text/plain": [
       "<tensorflow.python.keras.callbacks.History at 0x1d7c2aac8>"
      ]
     },
     "execution_count": 9,
     "metadata": {},
     "output_type": "execute_result"
    }
   ],
   "source": [
    "model.fit(train, validation_data=val, validation_steps = X_val.shape[0] / batch_size, steps_per_epoch=200, epochs=10)"
   ]
  },
  {
   "cell_type": "code",
   "execution_count": 10,
   "metadata": {},
   "outputs": [
    {
     "name": "stdout",
     "output_type": "stream",
     "text": [
      "3/2 [================================] - 2s 691ms/step - loss: 1.0060 - acc: 0.8438\n"
     ]
    },
    {
     "data": {
      "text/plain": [
       "[1.0642372731412395, 0.84375]"
      ]
     },
     "execution_count": 10,
     "metadata": {},
     "output_type": "execute_result"
    }
   ],
   "source": [
    "model.evaluate(test, steps=X_val.shape[0] / batch_size)"
   ]
  },
  {
   "cell_type": "code",
   "execution_count": null,
   "metadata": {},
   "outputs": [],
   "source": []
  }
 ],
 "metadata": {
  "kernelspec": {
   "display_name": "Python 3",
   "language": "python",
   "name": "python3"
  },
  "language_info": {
   "codemirror_mode": {
    "name": "ipython",
    "version": 3
   },
   "file_extension": ".py",
   "mimetype": "text/x-python",
   "name": "python",
   "nbconvert_exporter": "python",
   "pygments_lexer": "ipython3",
   "version": "3.6.8"
  }
 },
 "nbformat": 4,
 "nbformat_minor": 2
}
