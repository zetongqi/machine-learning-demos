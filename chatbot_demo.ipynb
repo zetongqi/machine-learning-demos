{
 "cells": [
  {
   "cell_type": "code",
   "execution_count": 28,
   "metadata": {},
   "outputs": [],
   "source": [
    "import pandas as pd\n",
    "from sklearn import preprocessing\n",
    "X = []\n",
    "y = []\n",
    "with open(\"/Users/zetong/intents.csv\", mode = 'r', encoding = 'ascii', errors = 'ignore') as csvfile:\n",
    "    intents = pd.read_csv(csvfile)\n",
    "    X = list(intents[\"utterances\"])\n",
    "    y = list(intents[\"labels\"])\n",
    "from sklearn import preprocessing\n",
    "le = preprocessing.LabelEncoder()\n",
    "le.fit(y)\n",
    "y = le.transform(y)"
   ]
  },
  {
   "cell_type": "code",
   "execution_count": 29,
   "metadata": {},
   "outputs": [
    {
     "data": {
      "text/plain": [
       "array(['commonQ.assist', 'commonQ.bot', 'commonQ.how',\n",
       "       'commonQ.just_details', 'commonQ.name', 'commonQ.not_giving',\n",
       "       'commonQ.query', 'commonQ.wait', 'contact.contact',\n",
       "       'faq.aadhaar_missing', 'faq.address_proof',\n",
       "       'faq.application_process', 'faq.apply_register',\n",
       "       'faq.approval_time', 'faq.bad_service',\n",
       "       'faq.banking_option_missing', 'faq.biz_category_missing',\n",
       "       'faq.biz_new', 'faq.biz_simpler', 'faq.borrow_limit',\n",
       "       'faq.borrow_use'], dtype='<U26')"
      ]
     },
     "execution_count": 29,
     "metadata": {},
     "output_type": "execute_result"
    }
   ],
   "source": [
    "le.classes_"
   ]
  },
  {
   "cell_type": "code",
   "execution_count": null,
   "metadata": {},
   "outputs": [],
   "source": []
  }
 ],
 "metadata": {
  "kernelspec": {
   "display_name": "Python 3",
   "language": "python",
   "name": "python3"
  },
  "language_info": {
   "codemirror_mode": {
    "name": "ipython",
    "version": 3
   },
   "file_extension": ".py",
   "mimetype": "text/x-python",
   "name": "python",
   "nbconvert_exporter": "python",
   "pygments_lexer": "ipython3",
   "version": "3.6.8"
  }
 },
 "nbformat": 4,
 "nbformat_minor": 2
}
